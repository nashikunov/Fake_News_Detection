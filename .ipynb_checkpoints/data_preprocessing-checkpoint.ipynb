{
 "cells": [
  {
   "cell_type": "code",
   "execution_count": 1,
   "metadata": {
    "colab": {},
    "colab_type": "code",
    "id": "mZ2gEUalqsYr"
   },
   "outputs": [],
   "source": [
    "import pandas as pd\n",
    "import numpy as np\n",
    "\n",
    "from sklearn.preprocessing import LabelEncoder\n",
    "import string\n",
    "import matplotlib.pyplot as plt\n",
    "\n",
    "import warnings\n",
    "warnings.filterwarnings(\"ignore\")"
   ]
  },
  {
   "cell_type": "code",
   "execution_count": 2,
   "metadata": {
    "colab": {},
    "colab_type": "code",
    "id": "hYvh-831q85w"
   },
   "outputs": [],
   "source": [
    "df = pd.read_csv('dataset/data_liar_plus.csv', sep=';')"
   ]
  },
  {
   "cell_type": "code",
   "execution_count": 3,
   "metadata": {
    "colab": {},
    "colab_type": "code",
    "id": "o8kEG7Vmq_gp"
   },
   "outputs": [],
   "source": [
    "le_multi = LabelEncoder()\n",
    "df.loc[:, 'label'] = le_multi.fit_transform(df.label)"
   ]
  },
  {
   "cell_type": "code",
   "execution_count": 4,
   "metadata": {
    "colab": {
     "base_uri": "https://localhost:8080/",
     "height": 119
    },
    "colab_type": "code",
    "id": "C3AiqZXirDRW",
    "outputId": "468a5e88-a667-4d66-d8ff-c68ccaee8d3c"
   },
   "outputs": [
    {
     "data": {
      "text/plain": [
       "{'barely-true': 0,\n",
       " 'false': 1,\n",
       " 'half-true': 2,\n",
       " 'mostly-true': 3,\n",
       " 'pants-fire': 4,\n",
       " 'true': 5}"
      ]
     },
     "execution_count": 4,
     "metadata": {},
     "output_type": "execute_result"
    }
   ],
   "source": [
    "{l: i for i, l in enumerate(le_multi.classes_)}"
   ]
  },
  {
   "cell_type": "code",
   "execution_count": 5,
   "metadata": {
    "colab": {},
    "colab_type": "code",
    "id": "GpxJoOzurW8g"
   },
   "outputs": [],
   "source": [
    "df.statement = df.statement.str.replace(r'[^\\w\\s]+', ' ')\n",
    "df.statement = df.statement.apply(lambda x: x.lower().strip())\n",
    "df.statement = df.statement.str.replace('\\w*\\d+\\w*','NUM')\n",
    "df.statement = df.statement.str.replace('\\s{2,}',' ')"
   ]
  },
  {
   "cell_type": "code",
   "execution_count": 6,
   "metadata": {
    "colab": {},
    "colab_type": "code",
    "id": "nhCyjFCAsDzY"
   },
   "outputs": [],
   "source": [
    "df.context = df.context.str.replace(r'[^\\w\\s]+', ' ')\n",
    "df.context = df.context.apply(lambda x: str(x).lower().strip())\n",
    "df.context = df.context.str.replace('\\w*\\d+\\w*','NUM')\n",
    "df.context = df.context.str.replace('\\s{2,}',' ')"
   ]
  },
  {
   "cell_type": "code",
   "execution_count": 7,
   "metadata": {
    "colab": {},
    "colab_type": "code",
    "id": "1-zw227wsGGV"
   },
   "outputs": [],
   "source": [
    "df.subject = df.subject.str.replace(r'[^\\w\\s]+', ' ')\n",
    "df.subject = df.subject.apply(lambda x: x.lower().strip())\n",
    "df.subject = df.subject.str.replace('\\w*\\d+\\w*','NUM')\n",
    "df.subject = df.subject.str.replace('\\s{2,}',' ')"
   ]
  },
  {
   "cell_type": "code",
   "execution_count": 8,
   "metadata": {
    "colab": {},
    "colab_type": "code",
    "id": "Y-aPZ48mxqAj"
   },
   "outputs": [],
   "source": [
    "df.loc[~df.speaker.isin(df.groupby('speaker', as_index=False).count()[['speaker', 'id_json']].query(\"id_json > 11\").speaker),\n",
    "       'speaker'] = 'unknown_speaker'"
   ]
  },
  {
   "cell_type": "code",
   "execution_count": 9,
   "metadata": {
    "colab": {},
    "colab_type": "code",
    "id": "c7h8jmuTz20-"
   },
   "outputs": [],
   "source": [
    "df = df.join(pd.get_dummies(df.speaker, prefix='speaker'))"
   ]
  },
  {
   "cell_type": "code",
   "execution_count": 10,
   "metadata": {
    "colab": {},
    "colab_type": "code",
    "id": "3ufNkbmhzTOq"
   },
   "outputs": [],
   "source": [
    "df.speaker_job = df.speaker_job.str.replace(r'[^\\w\\s]+', ' ')\n",
    "df.speaker_job = df.speaker_job.apply(lambda x: x.lower().strip())\n",
    "df.speaker_job = df.speaker_job.str.replace('\\w*\\d+\\w*','NUM')\n",
    "df.speaker_job = df.speaker_job.str.replace('\\s{2,}',' ')"
   ]
  },
  {
   "cell_type": "code",
   "execution_count": 11,
   "metadata": {
    "colab": {},
    "colab_type": "code",
    "id": "EWpAywHN3XKP"
   },
   "outputs": [],
   "source": [
    "df.loc[df.state.isin(['None', 'Unknown']), 'state'] = 'noStateInfo'\n",
    "df.loc[df.state.isin(['Tennesse']), 'state'] = 'Tennessee'\n",
    "df.loc[df.state.isin(['PA - Pennsylvania']), 'state'] = 'Pennsylvania'\n",
    "df.loc[df.state.isin(['Rhode island']), 'state'] = 'Rhode Island'\n",
    "df.loc[df.state.isin(['Tex']), 'state'] = 'Texas'\n",
    "df.loc[df.state.isin(['Virgiia','Virgina', 'Virginia director, Coalition to Stop Gun Violence']), 'state'] = 'Virginia'\n",
    "df.loc[df.state.isin(['Washington D.C.','Washington DC','Washington state', 'Washington, D.C.',]), 'state'] = 'Washington'"
   ]
  },
  {
   "cell_type": "code",
   "execution_count": 12,
   "metadata": {
    "colab": {},
    "colab_type": "code",
    "id": "Xn2wqcz62b90"
   },
   "outputs": [],
   "source": [
    "df = df.join(pd.get_dummies(df.state, prefix='state'))"
   ]
  },
  {
   "cell_type": "code",
   "execution_count": 13,
   "metadata": {
    "colab": {},
    "colab_type": "code",
    "id": "SrFPUIg23Q58"
   },
   "outputs": [],
   "source": [
    "df = df.join(pd.get_dummies(df.party, prefix='party'))"
   ]
  },
  {
   "cell_type": "code",
   "execution_count": 14,
   "metadata": {
    "colab": {},
    "colab_type": "code",
    "id": "LGVe_Xgx5WZ1"
   },
   "outputs": [],
   "source": [
    "df.drop(['barely_true_counts', 'false_counts', 'half_true_counts',\n",
    "       'mostly_true_counts', 'pants_on_fire_counts'],\n",
    "        axis=1,\n",
    "        inplace=True)"
   ]
  },
  {
   "cell_type": "code",
   "execution_count": 15,
   "metadata": {
    "colab": {},
    "colab_type": "code",
    "id": "lvyd29rM5W2k"
   },
   "outputs": [],
   "source": [
    "df.justification = df.justification.str.replace(r'[^\\w\\s]+', ' ')\n",
    "df.justification = df.justification.apply(lambda x: x.lower().strip())\n",
    "df.justification = df.justification.str.replace('\\w*\\d+\\w*','NUM')\n",
    "df.justification = df.justification.str.replace('\\s{2,}',' ')"
   ]
  },
  {
   "cell_type": "code",
   "execution_count": 21,
   "metadata": {},
   "outputs": [
    {
     "data": {
      "text/plain": [
       "Index(['id_json', 'label', 'statement', 'subject', 'speaker', 'speaker_job',\n",
       "       'state', 'party', 'context', 'justification', 'is_fake', 'data_type'],\n",
       "      dtype='object')"
      ]
     },
     "execution_count": 21,
     "metadata": {},
     "output_type": "execute_result"
    }
   ],
   "source": [
    "df.columns[:12]"
   ]
  },
  {
   "cell_type": "code",
   "execution_count": 23,
   "metadata": {
    "colab": {},
    "colab_type": "code",
    "id": "Zd5pFggq5wX9"
   },
   "outputs": [],
   "source": [
    "train_index = df.query(\"data_type == 'train'\").index\n",
    "val_index = df.query(\"data_type == 'val'\").index\n",
    "test_index = df.query(\"data_type == 'test'\").index\n",
    "\n",
    "cols_to_use = ['label', 'is_fake', 'statement', 'subject', 'speaker', 'speaker_job', 'state', 'party', 'context', 'justification']\n",
    "\n",
    "df.loc[train_index][cols_to_use].to_csv('dataset/train_data_clean.csv', index=False)\n",
    "df.loc[val_index][cols_to_use].to_csv('dataset/val_data_clean.csv', index=False)\n",
    "df.loc[test_index][cols_to_use].to_csv('dataset/test_data_clean.csv', index=False)"
   ]
  },
  {
   "cell_type": "code",
   "execution_count": 25,
   "metadata": {},
   "outputs": [],
   "source": [
    "df.to_csv('dataset/data_clean_with_onehot.csv', index=False)"
   ]
  }
 ],
 "metadata": {
  "colab": {
   "name": "data preprocessing_ipynb",
   "provenance": []
  },
  "kernelspec": {
   "display_name": "Python 3",
   "language": "python",
   "name": "python3"
  },
  "language_info": {
   "codemirror_mode": {
    "name": "ipython",
    "version": 3
   },
   "file_extension": ".py",
   "mimetype": "text/x-python",
   "name": "python",
   "nbconvert_exporter": "python",
   "pygments_lexer": "ipython3",
   "version": "3.7.3"
  }
 },
 "nbformat": 4,
 "nbformat_minor": 4
}

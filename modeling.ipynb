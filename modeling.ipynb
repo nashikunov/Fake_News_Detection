{
  "nbformat": 4,
  "nbformat_minor": 0,
  "metadata": {
    "kernelspec": {
      "display_name": "Python 3",
      "language": "python",
      "name": "python3"
    },
    "language_info": {
      "codemirror_mode": {
        "name": "ipython",
        "version": 3
      },
      "file_extension": ".py",
      "mimetype": "text/x-python",
      "name": "python",
      "nbconvert_exporter": "python",
      "pygments_lexer": "ipython3",
      "version": "3.7.3"
    },
    "colab": {
      "name": "modeling.ipynb",
      "provenance": [],
      "collapsed_sections": []
    },
    "accelerator": "GPU"
  },
  "cells": [
    {
      "cell_type": "code",
      "metadata": {
        "id": "EMNOUiHr1fNl",
        "colab_type": "code",
        "outputId": "47ba7d27-dd84-4f02-e8dd-3759fbedf324",
        "colab": {
          "base_uri": "https://localhost:8080/",
          "height": 122
        }
      },
      "source": [
        "from google.colab import drive \n",
        "drive.mount('/content/drive', force_remount=True)"
      ],
      "execution_count": 1,
      "outputs": [
        {
          "output_type": "stream",
          "text": [
            "Go to this URL in a browser: https://accounts.google.com/o/oauth2/auth?client_id=947318989803-6bn6qk8qdgf4n4g3pfee6491hc0brc4i.apps.googleusercontent.com&redirect_uri=urn%3aietf%3awg%3aoauth%3a2.0%3aoob&response_type=code&scope=email%20https%3a%2f%2fwww.googleapis.com%2fauth%2fdocs.test%20https%3a%2f%2fwww.googleapis.com%2fauth%2fdrive%20https%3a%2f%2fwww.googleapis.com%2fauth%2fdrive.photos.readonly%20https%3a%2f%2fwww.googleapis.com%2fauth%2fpeopleapi.readonly\n",
            "\n",
            "Enter your authorization code:\n",
            "··········\n",
            "Mounted at /content/drive\n"
          ],
          "name": "stdout"
        }
      ]
    },
    {
      "cell_type": "code",
      "metadata": {
        "id": "gld9xAoXBzPf",
        "colab_type": "code",
        "colab": {}
      },
      "source": [
        "import pandas as pd\n",
        "import numpy as np\n",
        "import matplotlib.pyplot as plt\n",
        "\n",
        "import time\n",
        "import random\n",
        "import os\n",
        "\n",
        "import gensim\n",
        "\n",
        "from sklearn.linear_model import LogisticRegression\n",
        "from sklearn.svm import SVC\n",
        "\n",
        "from sklearn.feature_extraction.text import TfidfVectorizer\n",
        "from sklearn.metrics import accuracy_score, f1_score, classification_report, roc_auc_score, precision_score, recall_score\n",
        "from sklearn.preprocessing import LabelEncoder\n",
        "import string\n",
        "import matplotlib.pyplot as plt\n",
        "\n",
        "import warnings\n",
        "warnings.filterwarnings(\"ignore\")"
      ],
      "execution_count": 0,
      "outputs": []
    },
    {
      "cell_type": "code",
      "metadata": {
        "id": "9u0MVkylYfSj",
        "colab_type": "code",
        "colab": {
          "base_uri": "https://localhost:8080/",
          "height": 343
        },
        "outputId": "e2fb5609-64df-4708-9074-e73dd7ceeb51"
      },
      "source": [
        "!pip install torchtext==0.4"
      ],
      "execution_count": 3,
      "outputs": [
        {
          "output_type": "stream",
          "text": [
            "Collecting torchtext==0.4\n",
            "\u001b[?25l  Downloading https://files.pythonhosted.org/packages/43/94/929d6bd236a4fb5c435982a7eb9730b78dcd8659acf328fd2ef9de85f483/torchtext-0.4.0-py3-none-any.whl (53kB)\n",
            "\r\u001b[K     |██████▏                         | 10kB 14.0MB/s eta 0:00:01\r\u001b[K     |████████████▍                   | 20kB 2.1MB/s eta 0:00:01\r\u001b[K     |██████████████████▌             | 30kB 2.8MB/s eta 0:00:01\r\u001b[K     |████████████████████████▊       | 40kB 3.0MB/s eta 0:00:01\r\u001b[K     |██████████████████████████████▉ | 51kB 2.4MB/s eta 0:00:01\r\u001b[K     |████████████████████████████████| 61kB 2.2MB/s \n",
            "\u001b[?25hRequirement already satisfied: numpy in /usr/local/lib/python3.6/dist-packages (from torchtext==0.4) (1.18.4)\n",
            "Requirement already satisfied: torch in /usr/local/lib/python3.6/dist-packages (from torchtext==0.4) (1.5.0+cu101)\n",
            "Requirement already satisfied: tqdm in /usr/local/lib/python3.6/dist-packages (from torchtext==0.4) (4.41.1)\n",
            "Requirement already satisfied: requests in /usr/local/lib/python3.6/dist-packages (from torchtext==0.4) (2.23.0)\n",
            "Requirement already satisfied: six in /usr/local/lib/python3.6/dist-packages (from torchtext==0.4) (1.12.0)\n",
            "Requirement already satisfied: future in /usr/local/lib/python3.6/dist-packages (from torch->torchtext==0.4) (0.16.0)\n",
            "Requirement already satisfied: chardet<4,>=3.0.2 in /usr/local/lib/python3.6/dist-packages (from requests->torchtext==0.4) (3.0.4)\n",
            "Requirement already satisfied: certifi>=2017.4.17 in /usr/local/lib/python3.6/dist-packages (from requests->torchtext==0.4) (2020.4.5.1)\n",
            "Requirement already satisfied: urllib3!=1.25.0,!=1.25.1,<1.26,>=1.21.1 in /usr/local/lib/python3.6/dist-packages (from requests->torchtext==0.4) (1.24.3)\n",
            "Requirement already satisfied: idna<3,>=2.5 in /usr/local/lib/python3.6/dist-packages (from requests->torchtext==0.4) (2.9)\n",
            "Installing collected packages: torchtext\n",
            "  Found existing installation: torchtext 0.3.1\n",
            "    Uninstalling torchtext-0.3.1:\n",
            "      Successfully uninstalled torchtext-0.3.1\n",
            "Successfully installed torchtext-0.4.0\n"
          ],
          "name": "stdout"
        }
      ]
    },
    {
      "cell_type": "code",
      "metadata": {
        "id": "uPlHmo-eZe_f",
        "colab_type": "code",
        "colab": {}
      },
      "source": [
        "import torch\n",
        "from torchtext import data, datasets, vocab, utils\n",
        "import torch.nn as nn\n",
        "import torch.nn.functional as F\n",
        "import torchsummary\n",
        "import torch.optim as optim"
      ],
      "execution_count": 0,
      "outputs": []
    },
    {
      "cell_type": "code",
      "metadata": {
        "id": "pVb0cHPdDQMT",
        "colab_type": "code",
        "colab": {}
      },
      "source": [
        "PATH = '/content/drive/My Drive/Colab Notebooks/Fake_News_Detection/dataset/'"
      ],
      "execution_count": 0,
      "outputs": []
    },
    {
      "cell_type": "code",
      "metadata": {
        "id": "sv4ctIMGCv5G",
        "colab_type": "code",
        "colab": {}
      },
      "source": [
        "df = pd.read_csv(PATH+'data_clean_with_onehot.csv')"
      ],
      "execution_count": 0,
      "outputs": []
    },
    {
      "cell_type": "code",
      "metadata": {
        "id": "1B7Qfa2A-3i2",
        "colab_type": "code",
        "colab": {}
      },
      "source": [
        "train_index = df.query(\"data_type == 'train'\").index\n",
        "val_index = df.query(\"data_type == 'val'\").index\n",
        "test_index = df.query(\"data_type == 'test'\").index"
      ],
      "execution_count": 0,
      "outputs": []
    },
    {
      "cell_type": "code",
      "metadata": {
        "id": "nJ_6d3juD6fd",
        "colab_type": "code",
        "colab": {}
      },
      "source": [
        "y_train_multi = df.loc[train_index, 'label']\n",
        "y_val_multi = df.loc[val_index, 'label']\n",
        "y_test_multi = df.loc[test_index, 'label']\n",
        "\n",
        "y_train_binary = df.loc[train_index, 'is_fake']\n",
        "y_val_binary = df.loc[val_index, 'is_fake']\n",
        "y_test_binary = df.loc[test_index, 'is_fake']"
      ],
      "execution_count": 0,
      "outputs": []
    },
    {
      "cell_type": "code",
      "metadata": {
        "id": "yZDI0G9AbQ9Q",
        "colab_type": "code",
        "colab": {}
      },
      "source": [
        "train_sentences = df.loc[train_index].statement.values\n",
        "val_sentences = df.loc[val_index].statement.values\n",
        "test_sentences = df.loc[test_index].statement.values"
      ],
      "execution_count": 0,
      "outputs": []
    },
    {
      "cell_type": "markdown",
      "metadata": {
        "id": "sbsg5HR0dCvJ",
        "colab_type": "text"
      },
      "source": [
        "# Functions"
      ]
    },
    {
      "cell_type": "code",
      "metadata": {
        "id": "3335L_u-rocf",
        "colab_type": "code",
        "colab": {}
      },
      "source": [
        "def get_metrics(true, predicted, binary=True):\n",
        "  if binary:\n",
        "    return pd.DataFrame({\"Accuracy\": [round(accuracy_score(true, predicted), 4)],\n",
        "  \"Precision\": [round(precision_score(true, predicted), 4)],\n",
        "  \"Recall\": [round(recall_score(true, predicted), 4)],\n",
        "  \"F1\": [round(f1_score(true, predicted), 4)]})\n",
        "  else:\n",
        "    return pd.DataFrame({\"Accuracy\": [round(accuracy_score(true, predicted), 4)],\n",
        "  \"Precision\": [round(precision_score(true, predicted, average='macro'), 4)],\n",
        "  \"Recall\": [round(recall_score(true, predicted, average='macro'), 4)],\n",
        "  \"F1\": [round(f1_score(true, predicted, average='macro'), 4)]})"
      ],
      "execution_count": 0,
      "outputs": []
    },
    {
      "cell_type": "code",
      "metadata": {
        "id": "q0OUacNgdKak",
        "colab_type": "code",
        "colab": {}
      },
      "source": [
        "def text_embed_info(feature):\n",
        "  vocabulary = {}\n",
        "  for word in ' '.join(df[feature].values).split():\n",
        "    if word in vocabulary.keys():\n",
        "      vocabulary[word] += 1\n",
        "    else:\n",
        "      vocabulary[word] = 1\n",
        "  success = 0\n",
        "  word_cnt = 0\n",
        "  unknown_words = []\n",
        "  for word in vocabulary.keys():\n",
        "    if word in vocab.keys():\n",
        "      success += 1\n",
        "      word_cnt += vocabulary[word]\n",
        "    else:\n",
        "      unknown_words.append(word)\n",
        "\n",
        "  print(f\"{feature:13} | Found embeddings for {success*100//len(vocabulary.keys())}% of vocabulary\")\n",
        "  print(f\"{feature:13} | Found embeddings for {word_cnt*100//len(' '.join(df[feature].values).split())}% of all text\")\n",
        "  print()"
      ],
      "execution_count": 0,
      "outputs": []
    },
    {
      "cell_type": "code",
      "metadata": {
        "id": "ftmgROqIdkG5",
        "colab_type": "code",
        "colab": {}
      },
      "source": [
        "def get_embedding_matrix(feature):\n",
        "  emb_mean, emb_std = embedding.mean(), embedding.std()\n",
        "\n",
        "  field = embedding_info[feature]['field']\n",
        "\n",
        "  word_index = dict(field.vocab.stoi).keys()\n",
        "  unknown_words = set()\n",
        "  nb_words = len(word_index)\n",
        "  embedding_matrix = np.random.normal(emb_mean, emb_std, (nb_words, EMBED_SIZE))\n",
        "  for word in word_index:\n",
        "        index = field.vocab[word]\n",
        "        try:\n",
        "            embedding_vector = embeddings_model[word]\n",
        "            embedding_matrix[index] = embedding_vector\n",
        "        except KeyError:\n",
        "            unknown_words.add(word)\n",
        "\n",
        "\n",
        "  embedding_matrix = torch.from_numpy(embedding_matrix) \n",
        "  \n",
        "  print(f\"{feature:14}| Vocabulary size {nb_words}\\t|Unknown words {len(unknown_words)}\")\n",
        "\n",
        "  embedding_info[feature]['embedding_matrix'] = embedding_matrix\n",
        "  embedding_info[feature]['unknown_words'] = unknown_words\n",
        "  embedding_info[feature]['vocab_size'] = nb_words\n",
        "\n",
        "def get_one_hot_matrix(feature):\n",
        "  field = embedding_info[feature]['field']\n",
        "  nb_words = len(field.vocab)\n",
        "  embedding_matrix = torch.from_numpy(np.eye(nb_words))\n",
        "\n",
        "  print(f\"{feature:14}| Vocabulary size {nb_words}\")\n",
        "\n",
        "  embedding_info[feature]['embedding_matrix'] = embedding_matrix\n",
        "  embedding_info[feature]['vocab_size'] = nb_words\n",
        "  \n",
        "def set_vectors_torch(feature):\n",
        "  embedding_info[feature]['field'].vocab.set_vectors(\n",
        "        \n",
        "      embedding_info[feature]['field'].vocab.stoi, \n",
        "      embedding_info[feature]['embedding_matrix'], \n",
        "      embedding_info[feature]['embedding_matrix'].shape[1]\n",
        "      \n",
        ")"
      ],
      "execution_count": 0,
      "outputs": []
    },
    {
      "cell_type": "code",
      "metadata": {
        "id": "AhoKPsR_oRvt",
        "colab_type": "code",
        "colab": {}
      },
      "source": [
        "def seed_torch(seed=1568):\n",
        "  random.seed(seed)\n",
        "  os.environ['PYTHONHASHSEED'] = str(seed)\n",
        "  np.random.seed(seed)\n",
        "  torch.manual_seed(seed)\n",
        "  torch.cuda.manual_seed(seed)\n",
        "  torch.cuda.manual_seed_all(seed) # if you are using multi-GPU.\n",
        "  torch.backends.cudnn.benchmark = False\n",
        "  torch.backends.cudnn.deterministic = True"
      ],
      "execution_count": 0,
      "outputs": []
    },
    {
      "cell_type": "code",
      "metadata": {
        "id": "o-2fJb5Z0CGR",
        "colab_type": "code",
        "colab": {}
      },
      "source": [
        "def get_features_from_batch(batch_):\n",
        "  return batch_.is_fake.to(device), batch_.label.to(device), batch_.statement.to(device), \\\n",
        "  batch_.subject.to(device), batch_.speaker.to(device), batch_.speaker_job.to(device), batch_.state.to(device), \\\n",
        "  batch_.party.to(device), batch_.context.to(device), batch_.justification.to(device)\n",
        "\n",
        "def train_func(train_iter_, target_is_binary=True):\n",
        "\n",
        "    train_loss = 0\n",
        "    train_acc = 0\n",
        "    for i, batch in enumerate(train_iter_):\n",
        "        optimizer.zero_grad()\n",
        "\n",
        "        target_binar, target_multi, statement, subject, speaker, speaker_job, state, party, context, justification = get_features_from_batch(batch)\n",
        "        seed_torch()\n",
        "        output = model(statement, subject, speaker, speaker_job, state, party, context, justification)\n",
        "        if target_is_binary:\n",
        "          loss = loss_func(output, target_binar)\n",
        "          train_acc += (output.argmax(1) == target_binar).sum().item()\n",
        "        else:\n",
        "          loss = loss_func(output, target_multi)\n",
        "          train_acc += (output.argmax(1) == target_multi).sum().item()\n",
        "\n",
        "        train_loss += loss.item()\n",
        "        loss.backward()\n",
        "\n",
        "        torch.nn.utils.clip_grad_norm(model.parameters(), 1)\n",
        "        optimizer.step()\n",
        "        \n",
        "\n",
        "    # Adjust the learning rate\n",
        "    scheduler.step()\n",
        "\n",
        "    return train_loss / (len(train_iter_.dataset) / BATCH_SIZE), train_acc / len(train_iter_.dataset)\n",
        "\n",
        "def test_func(data_, target_is_binary=True):\n",
        "    loss = 0\n",
        "    acc = 0\n",
        "\n",
        "    for batch in data_:\n",
        "        target_binar, target_multi, statement, subject, speaker, speaker_job, state, party, context, justification = get_features_from_batch(batch)\n",
        "        with torch.no_grad():\n",
        "            output = model(statement, subject, speaker, speaker_job, state, party, context, justification)\n",
        "            if target_is_binary:\n",
        "              loss += loss_func(output, target_binar).item()\n",
        "              acc += (output.argmax(1) == target_binar).sum().item()\n",
        "            else:\n",
        "              loss += loss_func(output, target_multi).item()\n",
        "              acc += (output.argmax(1) == target_multi).sum().item()\n",
        "\n",
        "    return loss / (len(data_.dataset) / BATCH_SIZE), acc / len(data_.dataset)"
      ],
      "execution_count": 0,
      "outputs": []
    },
    {
      "cell_type": "markdown",
      "metadata": {
        "id": "J8j2XiMGtI0b",
        "colab_type": "text"
      },
      "source": [
        "# Baseline"
      ]
    },
    {
      "cell_type": "markdown",
      "metadata": {
        "id": "6YSzOMuAPO__",
        "colab_type": "text"
      },
      "source": [
        "##Majority vote model (baseline)"
      ]
    },
    {
      "cell_type": "markdown",
      "metadata": {
        "id": "sg4O8-k5Q7E3",
        "colab_type": "text"
      },
      "source": [
        "### Multiclass classification"
      ]
    },
    {
      "cell_type": "code",
      "metadata": {
        "id": "JOG-DrUFPabn",
        "colab_type": "code",
        "colab": {}
      },
      "source": [
        "multi_popular = y_train_multi.value_counts().index[0]"
      ],
      "execution_count": 0,
      "outputs": []
    },
    {
      "cell_type": "code",
      "metadata": {
        "id": "f8iP70jT_Zib",
        "colab_type": "code",
        "colab": {
          "base_uri": "https://localhost:8080/",
          "height": 80
        },
        "outputId": "8c5cb28f-1be6-47cf-9b72-fff0f010cd6f"
      },
      "source": [
        "get_metrics(y_val_multi, [multi_popular]*len(y_val_multi), binary=False)"
      ],
      "execution_count": 139,
      "outputs": [
        {
          "output_type": "execute_result",
          "data": {
            "text/html": [
              "<div>\n",
              "<style scoped>\n",
              "    .dataframe tbody tr th:only-of-type {\n",
              "        vertical-align: middle;\n",
              "    }\n",
              "\n",
              "    .dataframe tbody tr th {\n",
              "        vertical-align: top;\n",
              "    }\n",
              "\n",
              "    .dataframe thead th {\n",
              "        text-align: right;\n",
              "    }\n",
              "</style>\n",
              "<table border=\"1\" class=\"dataframe\">\n",
              "  <thead>\n",
              "    <tr style=\"text-align: right;\">\n",
              "      <th></th>\n",
              "      <th>Accuracy</th>\n",
              "      <th>Precision</th>\n",
              "      <th>Recall</th>\n",
              "      <th>F1</th>\n",
              "    </tr>\n",
              "  </thead>\n",
              "  <tbody>\n",
              "    <tr>\n",
              "      <th>0</th>\n",
              "      <td>0.1931</td>\n",
              "      <td>0.0322</td>\n",
              "      <td>0.1667</td>\n",
              "      <td>0.054</td>\n",
              "    </tr>\n",
              "  </tbody>\n",
              "</table>\n",
              "</div>"
            ],
            "text/plain": [
              "   Accuracy  Precision  Recall     F1\n",
              "0    0.1931     0.0322  0.1667  0.054"
            ]
          },
          "metadata": {
            "tags": []
          },
          "execution_count": 139
        }
      ]
    },
    {
      "cell_type": "code",
      "metadata": {
        "id": "d0gyZB6gQCVI",
        "colab_type": "code",
        "colab": {
          "base_uri": "https://localhost:8080/",
          "height": 80
        },
        "outputId": "fa293adb-2131-4107-f40d-2b8bff4f8eed"
      },
      "source": [
        "get_metrics(y_test_multi, [multi_popular]*len(y_test_multi), binary=False)"
      ],
      "execution_count": 125,
      "outputs": [
        {
          "output_type": "execute_result",
          "data": {
            "text/html": [
              "<div>\n",
              "<style scoped>\n",
              "    .dataframe tbody tr th:only-of-type {\n",
              "        vertical-align: middle;\n",
              "    }\n",
              "\n",
              "    .dataframe tbody tr th {\n",
              "        vertical-align: top;\n",
              "    }\n",
              "\n",
              "    .dataframe thead th {\n",
              "        text-align: right;\n",
              "    }\n",
              "</style>\n",
              "<table border=\"1\" class=\"dataframe\">\n",
              "  <thead>\n",
              "    <tr style=\"text-align: right;\">\n",
              "      <th></th>\n",
              "      <th>Accuracy</th>\n",
              "      <th>Precision</th>\n",
              "      <th>Recall</th>\n",
              "      <th>F1</th>\n",
              "    </tr>\n",
              "  </thead>\n",
              "  <tbody>\n",
              "    <tr>\n",
              "      <th>0</th>\n",
              "      <td>0.2092</td>\n",
              "      <td>0.0349</td>\n",
              "      <td>0.1667</td>\n",
              "      <td>0.0577</td>\n",
              "    </tr>\n",
              "  </tbody>\n",
              "</table>\n",
              "</div>"
            ],
            "text/plain": [
              "   Accuracy  Precision  Recall      F1\n",
              "0    0.2092     0.0349  0.1667  0.0577"
            ]
          },
          "metadata": {
            "tags": []
          },
          "execution_count": 125
        }
      ]
    },
    {
      "cell_type": "markdown",
      "metadata": {
        "id": "nLFZFyTvRDYX",
        "colab_type": "text"
      },
      "source": [
        "### Binary Classification"
      ]
    },
    {
      "cell_type": "code",
      "metadata": {
        "id": "65sIfHpEP8qd",
        "colab_type": "code",
        "colab": {}
      },
      "source": [
        "binary_popular = y_train_binary.value_counts().index[0]"
      ],
      "execution_count": 0,
      "outputs": []
    },
    {
      "cell_type": "code",
      "metadata": {
        "id": "1JgYTRIn_cNS",
        "colab_type": "code",
        "colab": {
          "base_uri": "https://localhost:8080/",
          "height": 80
        },
        "outputId": "24871c54-0a92-41a8-a824-057354e07b5c"
      },
      "source": [
        "get_metrics(y_val_binary, [binary_popular]*len(y_val_binary), binary=False)"
      ],
      "execution_count": 140,
      "outputs": [
        {
          "output_type": "execute_result",
          "data": {
            "text/html": [
              "<div>\n",
              "<style scoped>\n",
              "    .dataframe tbody tr th:only-of-type {\n",
              "        vertical-align: middle;\n",
              "    }\n",
              "\n",
              "    .dataframe tbody tr th {\n",
              "        vertical-align: top;\n",
              "    }\n",
              "\n",
              "    .dataframe thead th {\n",
              "        text-align: right;\n",
              "    }\n",
              "</style>\n",
              "<table border=\"1\" class=\"dataframe\">\n",
              "  <thead>\n",
              "    <tr style=\"text-align: right;\">\n",
              "      <th></th>\n",
              "      <th>Accuracy</th>\n",
              "      <th>Precision</th>\n",
              "      <th>Recall</th>\n",
              "      <th>F1</th>\n",
              "    </tr>\n",
              "  </thead>\n",
              "  <tbody>\n",
              "    <tr>\n",
              "      <th>0</th>\n",
              "      <td>0.5202</td>\n",
              "      <td>0.2601</td>\n",
              "      <td>0.5</td>\n",
              "      <td>0.3422</td>\n",
              "    </tr>\n",
              "  </tbody>\n",
              "</table>\n",
              "</div>"
            ],
            "text/plain": [
              "   Accuracy  Precision  Recall      F1\n",
              "0    0.5202     0.2601     0.5  0.3422"
            ]
          },
          "metadata": {
            "tags": []
          },
          "execution_count": 140
        }
      ]
    },
    {
      "cell_type": "code",
      "metadata": {
        "id": "CECUl4_IQt2S",
        "colab_type": "code",
        "colab": {
          "base_uri": "https://localhost:8080/",
          "height": 80
        },
        "outputId": "dda040f9-8018-4a14-e7be-646eface9c50"
      },
      "source": [
        "get_metrics(y_test_binary, [binary_popular]*len(y_test_binary), binary=False)"
      ],
      "execution_count": 127,
      "outputs": [
        {
          "output_type": "execute_result",
          "data": {
            "text/html": [
              "<div>\n",
              "<style scoped>\n",
              "    .dataframe tbody tr th:only-of-type {\n",
              "        vertical-align: middle;\n",
              "    }\n",
              "\n",
              "    .dataframe tbody tr th {\n",
              "        vertical-align: top;\n",
              "    }\n",
              "\n",
              "    .dataframe thead th {\n",
              "        text-align: right;\n",
              "    }\n",
              "</style>\n",
              "<table border=\"1\" class=\"dataframe\">\n",
              "  <thead>\n",
              "    <tr style=\"text-align: right;\">\n",
              "      <th></th>\n",
              "      <th>Accuracy</th>\n",
              "      <th>Precision</th>\n",
              "      <th>Recall</th>\n",
              "      <th>F1</th>\n",
              "    </tr>\n",
              "  </thead>\n",
              "  <tbody>\n",
              "    <tr>\n",
              "      <th>0</th>\n",
              "      <td>0.5635</td>\n",
              "      <td>0.2818</td>\n",
              "      <td>0.5</td>\n",
              "      <td>0.3604</td>\n",
              "    </tr>\n",
              "  </tbody>\n",
              "</table>\n",
              "</div>"
            ],
            "text/plain": [
              "   Accuracy  Precision  Recall      F1\n",
              "0    0.5635     0.2818     0.5  0.3604"
            ]
          },
          "metadata": {
            "tags": []
          },
          "execution_count": 127
        }
      ]
    },
    {
      "cell_type": "markdown",
      "metadata": {
        "id": "F8fvS0M7-cFi",
        "colab_type": "text"
      },
      "source": [
        "## TF-IDF LogisticRegression"
      ]
    },
    {
      "cell_type": "markdown",
      "metadata": {
        "id": "EKRZuOhktb_0",
        "colab_type": "text"
      },
      "source": [
        "### \"Statement\" model"
      ]
    },
    {
      "cell_type": "code",
      "metadata": {
        "id": "-1GWLcWCRRPk",
        "colab_type": "code",
        "colab": {}
      },
      "source": [
        "tfidf = TfidfVectorizer(ngram_range=(1, 3), sublinear_tf=True, max_df=0.8)"
      ],
      "execution_count": 0,
      "outputs": []
    },
    {
      "cell_type": "code",
      "metadata": {
        "id": "rO8BwwFNgh6k",
        "colab_type": "code",
        "colab": {}
      },
      "source": [
        "X_train = tfidf.fit_transform(df.loc[train_index, 'statement'])\n",
        "X_val = tfidf.transform(df.loc[val_index, 'statement'])\n",
        "X_test = tfidf.transform(df.loc[test_index, 'statement'])"
      ],
      "execution_count": 0,
      "outputs": []
    },
    {
      "cell_type": "markdown",
      "metadata": {
        "id": "hy0WIcfkNjFm",
        "colab_type": "text"
      },
      "source": [
        "#### Multiclass classification"
      ]
    },
    {
      "cell_type": "code",
      "metadata": {
        "id": "h6H6q9JMNpYj",
        "colab_type": "code",
        "colab": {}
      },
      "source": [
        "lr = LogisticRegression(max_iter=500)"
      ],
      "execution_count": 0,
      "outputs": []
    },
    {
      "cell_type": "code",
      "metadata": {
        "id": "iGendFH5Nq84",
        "colab_type": "code",
        "colab": {
          "base_uri": "https://localhost:8080/",
          "height": 102
        },
        "outputId": "70f1e657-a23a-4873-b77a-4d63a39f786a"
      },
      "source": [
        "lr.fit(X_train, y_train_multi)"
      ],
      "execution_count": 131,
      "outputs": [
        {
          "output_type": "execute_result",
          "data": {
            "text/plain": [
              "LogisticRegression(C=1.0, class_weight=None, dual=False, fit_intercept=True,\n",
              "                   intercept_scaling=1, l1_ratio=None, max_iter=500,\n",
              "                   multi_class='auto', n_jobs=None, penalty='l2',\n",
              "                   random_state=None, solver='lbfgs', tol=0.0001, verbose=0,\n",
              "                   warm_start=False)"
            ]
          },
          "metadata": {
            "tags": []
          },
          "execution_count": 131
        }
      ]
    },
    {
      "cell_type": "code",
      "metadata": {
        "id": "UbUDP6wv_GzL",
        "colab_type": "code",
        "colab": {
          "base_uri": "https://localhost:8080/",
          "height": 80
        },
        "outputId": "d3a997a6-f8e9-495b-a8b2-0c194cea5f27"
      },
      "source": [
        "get_metrics(y_val_multi, lr.predict(X_val), binary=False)"
      ],
      "execution_count": 133,
      "outputs": [
        {
          "output_type": "execute_result",
          "data": {
            "text/html": [
              "<div>\n",
              "<style scoped>\n",
              "    .dataframe tbody tr th:only-of-type {\n",
              "        vertical-align: middle;\n",
              "    }\n",
              "\n",
              "    .dataframe tbody tr th {\n",
              "        vertical-align: top;\n",
              "    }\n",
              "\n",
              "    .dataframe thead th {\n",
              "        text-align: right;\n",
              "    }\n",
              "</style>\n",
              "<table border=\"1\" class=\"dataframe\">\n",
              "  <thead>\n",
              "    <tr style=\"text-align: right;\">\n",
              "      <th></th>\n",
              "      <th>Accuracy</th>\n",
              "      <th>Precision</th>\n",
              "      <th>Recall</th>\n",
              "      <th>F1</th>\n",
              "    </tr>\n",
              "  </thead>\n",
              "  <tbody>\n",
              "    <tr>\n",
              "      <th>0</th>\n",
              "      <td>0.2609</td>\n",
              "      <td>0.3097</td>\n",
              "      <td>0.235</td>\n",
              "      <td>0.2253</td>\n",
              "    </tr>\n",
              "  </tbody>\n",
              "</table>\n",
              "</div>"
            ],
            "text/plain": [
              "   Accuracy  Precision  Recall      F1\n",
              "0    0.2609     0.3097   0.235  0.2253"
            ]
          },
          "metadata": {
            "tags": []
          },
          "execution_count": 133
        }
      ]
    },
    {
      "cell_type": "code",
      "metadata": {
        "id": "55C4E7b1NujO",
        "colab_type": "code",
        "colab": {
          "base_uri": "https://localhost:8080/",
          "height": 80
        },
        "outputId": "86c2bcfc-744d-4ef0-a6e5-16ff5b10e9fa"
      },
      "source": [
        "get_metrics(y_test_multi, lr.predict(X_test), binary=False)"
      ],
      "execution_count": 132,
      "outputs": [
        {
          "output_type": "execute_result",
          "data": {
            "text/html": [
              "<div>\n",
              "<style scoped>\n",
              "    .dataframe tbody tr th:only-of-type {\n",
              "        vertical-align: middle;\n",
              "    }\n",
              "\n",
              "    .dataframe tbody tr th {\n",
              "        vertical-align: top;\n",
              "    }\n",
              "\n",
              "    .dataframe thead th {\n",
              "        text-align: right;\n",
              "    }\n",
              "</style>\n",
              "<table border=\"1\" class=\"dataframe\">\n",
              "  <thead>\n",
              "    <tr style=\"text-align: right;\">\n",
              "      <th></th>\n",
              "      <th>Accuracy</th>\n",
              "      <th>Precision</th>\n",
              "      <th>Recall</th>\n",
              "      <th>F1</th>\n",
              "    </tr>\n",
              "  </thead>\n",
              "  <tbody>\n",
              "    <tr>\n",
              "      <th>0</th>\n",
              "      <td>0.2526</td>\n",
              "      <td>0.3246</td>\n",
              "      <td>0.2234</td>\n",
              "      <td>0.2169</td>\n",
              "    </tr>\n",
              "  </tbody>\n",
              "</table>\n",
              "</div>"
            ],
            "text/plain": [
              "   Accuracy  Precision  Recall      F1\n",
              "0    0.2526     0.3246  0.2234  0.2169"
            ]
          },
          "metadata": {
            "tags": []
          },
          "execution_count": 132
        }
      ]
    },
    {
      "cell_type": "markdown",
      "metadata": {
        "id": "JKHuzkQkGWqs",
        "colab_type": "text"
      },
      "source": [
        "#### Binary Classification "
      ]
    },
    {
      "cell_type": "code",
      "metadata": {
        "id": "Vm97Cq-Wg5sh",
        "colab_type": "code",
        "colab": {}
      },
      "source": [
        "lr = LogisticRegression(C=2)"
      ],
      "execution_count": 0,
      "outputs": []
    },
    {
      "cell_type": "code",
      "metadata": {
        "id": "kik5n2Zgg0A0",
        "colab_type": "code",
        "colab": {
          "base_uri": "https://localhost:8080/",
          "height": 102
        },
        "outputId": "458e2492-f492-43bb-db92-e7bd7365a720"
      },
      "source": [
        "lr.fit(X_train, y_train_binary)"
      ],
      "execution_count": 135,
      "outputs": [
        {
          "output_type": "execute_result",
          "data": {
            "text/plain": [
              "LogisticRegression(C=2, class_weight=None, dual=False, fit_intercept=True,\n",
              "                   intercept_scaling=1, l1_ratio=None, max_iter=100,\n",
              "                   multi_class='auto', n_jobs=None, penalty='l2',\n",
              "                   random_state=None, solver='lbfgs', tol=0.0001, verbose=0,\n",
              "                   warm_start=False)"
            ]
          },
          "metadata": {
            "tags": []
          },
          "execution_count": 135
        }
      ]
    },
    {
      "cell_type": "code",
      "metadata": {
        "id": "LDa2KmQc_Kfp",
        "colab_type": "code",
        "colab": {
          "base_uri": "https://localhost:8080/",
          "height": 80
        },
        "outputId": "6960da05-6e64-42d8-9721-4b6d84df38b8"
      },
      "source": [
        "get_metrics(y_val_binary, lr.predict(X_val), binary=False)"
      ],
      "execution_count": 141,
      "outputs": [
        {
          "output_type": "execute_result",
          "data": {
            "text/html": [
              "<div>\n",
              "<style scoped>\n",
              "    .dataframe tbody tr th:only-of-type {\n",
              "        vertical-align: middle;\n",
              "    }\n",
              "\n",
              "    .dataframe tbody tr th {\n",
              "        vertical-align: top;\n",
              "    }\n",
              "\n",
              "    .dataframe thead th {\n",
              "        text-align: right;\n",
              "    }\n",
              "</style>\n",
              "<table border=\"1\" class=\"dataframe\">\n",
              "  <thead>\n",
              "    <tr style=\"text-align: right;\">\n",
              "      <th></th>\n",
              "      <th>Accuracy</th>\n",
              "      <th>Precision</th>\n",
              "      <th>Recall</th>\n",
              "      <th>F1</th>\n",
              "    </tr>\n",
              "  </thead>\n",
              "  <tbody>\n",
              "    <tr>\n",
              "      <th>0</th>\n",
              "      <td>0.6301</td>\n",
              "      <td>0.641</td>\n",
              "      <td>0.623</td>\n",
              "      <td>0.6146</td>\n",
              "    </tr>\n",
              "  </tbody>\n",
              "</table>\n",
              "</div>"
            ],
            "text/plain": [
              "   Accuracy  Precision  Recall      F1\n",
              "0    0.6301      0.641   0.623  0.6146"
            ]
          },
          "metadata": {
            "tags": []
          },
          "execution_count": 141
        }
      ]
    },
    {
      "cell_type": "code",
      "metadata": {
        "id": "fuUk3OHtHTBE",
        "colab_type": "code",
        "colab": {
          "base_uri": "https://localhost:8080/",
          "height": 80
        },
        "outputId": "5980631a-c871-4196-b8a8-e6b07268deda"
      },
      "source": [
        "get_metrics(y_test_binary, lr.predict(X_test))"
      ],
      "execution_count": 137,
      "outputs": [
        {
          "output_type": "execute_result",
          "data": {
            "text/html": [
              "<div>\n",
              "<style scoped>\n",
              "    .dataframe tbody tr th:only-of-type {\n",
              "        vertical-align: middle;\n",
              "    }\n",
              "\n",
              "    .dataframe tbody tr th {\n",
              "        vertical-align: top;\n",
              "    }\n",
              "\n",
              "    .dataframe thead th {\n",
              "        text-align: right;\n",
              "    }\n",
              "</style>\n",
              "<table border=\"1\" class=\"dataframe\">\n",
              "  <thead>\n",
              "    <tr style=\"text-align: right;\">\n",
              "      <th></th>\n",
              "      <th>Accuracy</th>\n",
              "      <th>Precision</th>\n",
              "      <th>Recall</th>\n",
              "      <th>F1</th>\n",
              "    </tr>\n",
              "  </thead>\n",
              "  <tbody>\n",
              "    <tr>\n",
              "      <th>0</th>\n",
              "      <td>0.614</td>\n",
              "      <td>0.5894</td>\n",
              "      <td>0.3816</td>\n",
              "      <td>0.4632</td>\n",
              "    </tr>\n",
              "  </tbody>\n",
              "</table>\n",
              "</div>"
            ],
            "text/plain": [
              "   Accuracy  Precision  Recall      F1\n",
              "0     0.614     0.5894  0.3816  0.4632"
            ]
          },
          "metadata": {
            "tags": []
          },
          "execution_count": 137
        }
      ]
    },
    {
      "cell_type": "markdown",
      "metadata": {
        "id": "_vUfJVJPBxjG",
        "colab_type": "text"
      },
      "source": [
        "# GoogleNews word2vec Embeddings"
      ]
    },
    {
      "cell_type": "code",
      "metadata": {
        "id": "SLu_f-OvZL8b",
        "colab_type": "code",
        "colab": {
          "base_uri": "https://localhost:8080/",
          "height": 204
        },
        "outputId": "e6edeefd-979e-479f-ea23-ce5de8a61f82"
      },
      "source": [
        "!wget https://s3.amazonaws.com/dl4j-distribution/GoogleNews-vectors-negative300.bin.gz"
      ],
      "execution_count": 15,
      "outputs": [
        {
          "output_type": "stream",
          "text": [
            "--2020-06-04 14:50:13--  https://s3.amazonaws.com/dl4j-distribution/GoogleNews-vectors-negative300.bin.gz\n",
            "Resolving s3.amazonaws.com (s3.amazonaws.com)... 52.216.163.157\n",
            "Connecting to s3.amazonaws.com (s3.amazonaws.com)|52.216.163.157|:443... connected.\n",
            "HTTP request sent, awaiting response... 200 OK\n",
            "Length: 1647046227 (1.5G) [application/x-gzip]\n",
            "Saving to: ‘GoogleNews-vectors-negative300.bin.gz’\n",
            "\n",
            "GoogleNews-vectors- 100%[===================>]   1.53G  70.7MB/s    in 23s     \n",
            "\n",
            "2020-06-04 14:50:36 (69.3 MB/s) - ‘GoogleNews-vectors-negative300.bin.gz’ saved [1647046227/1647046227]\n",
            "\n"
          ],
          "name": "stdout"
        }
      ]
    },
    {
      "cell_type": "code",
      "metadata": {
        "id": "Hpm8-NWvYB8y",
        "colab_type": "code",
        "colab": {}
      },
      "source": [
        "embeddings_model = gensim.models.KeyedVectors.load_word2vec_format('GoogleNews-vectors-negative300.bin.gz', binary=True)\n",
        "vocab = embeddings_model.vocab\n",
        "embedding = embeddings_model.syn0"
      ],
      "execution_count": 0,
      "outputs": []
    },
    {
      "cell_type": "code",
      "metadata": {
        "id": "lpC4Lpa0E2QN",
        "colab_type": "code",
        "colab": {
          "base_uri": "https://localhost:8080/",
          "height": 272
        },
        "outputId": "74998761-2ab6-4e4e-9921-676610a76225"
      },
      "source": [
        "text_embed_info('statement')\n",
        "text_embed_info('subject')\n",
        "text_embed_info('speaker_job')\n",
        "text_embed_info('context')\n",
        "text_embed_info('justification')"
      ],
      "execution_count": 17,
      "outputs": [
        {
          "output_type": "stream",
          "text": [
            "statement     | Found embeddings for 88% of vocabulary\n",
            "statement     | Found embeddings for 90% of all text\n",
            "\n",
            "subject       | Found embeddings for 98% of vocabulary\n",
            "subject       | Found embeddings for 98% of all text\n",
            "\n",
            "speaker_job   | Found embeddings for 92% of vocabulary\n",
            "speaker_job   | Found embeddings for 82% of all text\n",
            "\n",
            "context       | Found embeddings for 86% of vocabulary\n",
            "context       | Found embeddings for 81% of all text\n",
            "\n",
            "justification | Found embeddings for 80% of vocabulary\n",
            "justification | Found embeddings for 89% of all text\n",
            "\n"
          ],
          "name": "stdout"
        }
      ]
    },
    {
      "cell_type": "markdown",
      "metadata": {
        "id": "jrsln_RfwZOU",
        "colab_type": "text"
      },
      "source": [
        "# Embeddings preprocessin"
      ]
    },
    {
      "cell_type": "code",
      "metadata": {
        "id": "xITIRMiOzFWi",
        "colab_type": "code",
        "colab": {}
      },
      "source": [
        "EMBED_SIZE = 300 "
      ],
      "execution_count": 0,
      "outputs": []
    },
    {
      "cell_type": "code",
      "metadata": {
        "id": "BiSTD-kkYX3T",
        "colab_type": "code",
        "colab": {}
      },
      "source": [
        "device = torch.device(\"cuda\" if torch.cuda.is_available() else \"cpu\")"
      ],
      "execution_count": 0,
      "outputs": []
    },
    {
      "cell_type": "code",
      "metadata": {
        "id": "uPcEdhT7bIYL",
        "colab_type": "code",
        "colab": {}
      },
      "source": [
        "STATEMENT = data.Field(sequential=True)\n",
        "CONTEXT = data.Field(sequential=True)\n",
        "SUBJECT = data.Field(sequential=True)\n",
        "SPEAKER_JOB = data.Field(sequential=True)\n",
        "JUSTIFICATION = data.Field(sequential=True)\n",
        "\n",
        "SPEAKER = data.Field(sequential=False)\n",
        "STATE = data.Field(sequential=False)\n",
        "PARTY = data.Field(sequential=False)\n",
        "\n",
        "TARGET_BINAR = data.Field(sequential=False, use_vocab=False, dtype=torch.int64)\n",
        "TARGET_MULTI = data.Field(sequential=False, use_vocab=False, dtype=torch.int64)\n",
        "\n",
        "data_fields = [('label', TARGET_MULTI),\n",
        "               ('is_fake', TARGET_BINAR),\n",
        "               ('statement', STATEMENT),\n",
        "               ('subject', SUBJECT),\n",
        "               ('speaker', SPEAKER),\n",
        "               ('speaker_job', SPEAKER_JOB),\n",
        "               ('state', STATE),\n",
        "               ('party', PARTY),\n",
        "               ('context', CONTEXT),\n",
        "               ('justification', JUSTIFICATION)\n",
        "               ]"
      ],
      "execution_count": 0,
      "outputs": []
    },
    {
      "cell_type": "code",
      "metadata": {
        "id": "jowxLFywkLV5",
        "colab_type": "code",
        "colab": {}
      },
      "source": [
        "train = data.TabularDataset(path=PATH+'train_data_clean.csv', format='csv', fields=data_fields, skip_header=True)\n",
        "val = data.TabularDataset(path=PATH+'val_data_clean.csv', format='csv', fields=data_fields, skip_header=True)\n",
        "test = data.TabularDataset(path=PATH+'test_data_clean.csv', format='csv', fields=data_fields, skip_header=True)"
      ],
      "execution_count": 0,
      "outputs": []
    },
    {
      "cell_type": "code",
      "metadata": {
        "id": "N8rSFuWdaM2v",
        "colab_type": "code",
        "colab": {}
      },
      "source": [
        "STATEMENT.build_vocab(train)\n",
        "CONTEXT.build_vocab(train)\n",
        "SUBJECT.build_vocab(train)\n",
        "SPEAKER_JOB.build_vocab(train)\n",
        "JUSTIFICATION.build_vocab(train)\n",
        "SPEAKER.build_vocab(train)\n",
        "STATE.build_vocab(train)\n",
        "PARTY.build_vocab(train)"
      ],
      "execution_count": 0,
      "outputs": []
    },
    {
      "cell_type": "code",
      "metadata": {
        "id": "aMo9I4Ab-tCG",
        "colab_type": "code",
        "colab": {}
      },
      "source": [
        "embedding_info = {\n",
        "    'statement': {'field': STATEMENT},\n",
        "    'subject': {'field': SUBJECT},\n",
        "    'speaker': {'field': SPEAKER},\n",
        "    'speaker_job': {'field': SPEAKER_JOB},\n",
        "    'state': {'field': STATE},\n",
        "    'party': {'field': PARTY},\n",
        "    'context': {'field': CONTEXT},\n",
        "    'justification': {'field': JUSTIFICATION}\n",
        "}"
      ],
      "execution_count": 0,
      "outputs": []
    },
    {
      "cell_type": "code",
      "metadata": {
        "id": "w85AwGHwAwR6",
        "colab_type": "code",
        "colab": {}
      },
      "source": [
        "features_word2vec = ['statement', 'subject', 'speaker_job', 'context', 'justification']\n",
        "features_one_hot = ['speaker', 'state', 'party']"
      ],
      "execution_count": 0,
      "outputs": []
    },
    {
      "cell_type": "code",
      "metadata": {
        "id": "-e62Mw4pGh3a",
        "colab_type": "code",
        "colab": {
          "base_uri": "https://localhost:8080/",
          "height": 102
        },
        "outputId": "f700a05b-f29c-45ff-a25b-0fb17522dfe7"
      },
      "source": [
        "for col in features_word2vec:\n",
        "  get_embedding_matrix(col)"
      ],
      "execution_count": 25,
      "outputs": [
        {
          "output_type": "stream",
          "text": [
            "statement     | Vocabulary size 11592\t|Unknown words 1244\n",
            "subject       | Vocabulary size 178\t|Unknown words 4\n",
            "speaker_job   | Vocabulary size 1102\t|Unknown words 83\n",
            "context       | Vocabulary size 2153\t|Unknown words 281\n",
            "justification | Vocabulary size 22266\t|Unknown words 4025\n"
          ],
          "name": "stdout"
        }
      ]
    },
    {
      "cell_type": "code",
      "metadata": {
        "id": "5O7UvxgPHQD5",
        "colab_type": "code",
        "colab": {
          "base_uri": "https://localhost:8080/",
          "height": 68
        },
        "outputId": "abb0e5fb-3ef5-4e33-d3ec-79b7e2c66577"
      },
      "source": [
        "for col in features_one_hot:\n",
        "  get_one_hot_matrix(col)"
      ],
      "execution_count": 26,
      "outputs": [
        {
          "output_type": "stream",
          "text": [
            "speaker       | Vocabulary size 162\n",
            "state         | Vocabulary size 60\n",
            "party         | Vocabulary size 24\n"
          ],
          "name": "stdout"
        }
      ]
    },
    {
      "cell_type": "code",
      "metadata": {
        "id": "kXavvxuQKSdQ",
        "colab_type": "code",
        "colab": {}
      },
      "source": [
        "for col in embedding_info.keys():\n",
        "  set_vectors_torch(col)"
      ],
      "execution_count": 0,
      "outputs": []
    },
    {
      "cell_type": "markdown",
      "metadata": {
        "id": "Q-1uL28Vzywt",
        "colab_type": "text"
      },
      "source": [
        "# Modeling"
      ]
    },
    {
      "cell_type": "code",
      "metadata": {
        "id": "QVyFJrW85YN3",
        "colab_type": "code",
        "colab": {}
      },
      "source": [
        "from models import LSTM_Statement, LSTMattentionFullData, CNN_Statement, LSTM_statement_metadata, LSTMFullData"
      ],
      "execution_count": 0,
      "outputs": []
    },
    {
      "cell_type": "code",
      "metadata": {
        "id": "Z86eFWDxFqRH",
        "colab_type": "code",
        "colab": {}
      },
      "source": [
        "def build_batches():\n",
        "  global train_iter, val_iter, test_iter\n",
        "  \n",
        "  train_iter = data.BucketIterator(train,\n",
        "                                batch_size=BATCH_SIZE,\n",
        "                                sort_key= lambda x: len(x.statement),\n",
        "                                repeat=False,\n",
        "                                shuffle=True,\n",
        "                                device=device)\n",
        "\n",
        "  val_iter = data.BucketIterator(val,\n",
        "                                batch_size=BATCH_SIZE,\n",
        "                                sort_key= lambda x: len(x.statement),\n",
        "                                repeat=False,\n",
        "                                sort = True,\n",
        "                                device=device)\n",
        "\n",
        "  test_iter = data.BucketIterator(test,\n",
        "                                batch_size=BATCH_SIZE,\n",
        "                                sort_key= lambda x: len(x.statement),\n",
        "                                repeat=False,\n",
        "                                sort = True,\n",
        "                                device=device)"
      ],
      "execution_count": 0,
      "outputs": []
    },
    {
      "cell_type": "code",
      "metadata": {
        "id": "wIpzK124DjKE",
        "colab_type": "code",
        "colab": {}
      },
      "source": [
        "def train_model(model, target_is_binary=True):\n",
        "  train_logs = []\n",
        "  val_logs = []\n",
        "  test_logs = []\n",
        "\n",
        "  for epoch in range(N_EPOCHS):\n",
        "    start_time = time.time()\n",
        "    train_loss, train_acc = train_func(train_iter, target_is_binary=target_is_binary)\n",
        "    valid_loss, valid_acc = test_func(val_iter, target_is_binary=target_is_binary)\n",
        "    test_loss, test_acc = test_func(test_iter, target_is_binary=target_is_binary)\n",
        "\n",
        "    secs = int(time.time() - start_time)\n",
        "    mins = secs / 60\n",
        "    secs = secs % 60\n",
        "\n",
        "    print('Epoch: %d' %(epoch + 1), \" | time in %d minutes, %d seconds\" %(mins, secs))\n",
        "    print(f'\\tLoss: {train_loss:.4f}(train)\\t|\\tAcc: {train_acc * 100:.1f}%(train)')\n",
        "    print(f'\\tLoss: {valid_loss:.4f}(valid)\\t|\\tAcc: {valid_acc * 100:.1f}%(valid)')\n",
        "    print(f'\\tLoss: {test_loss:.4f}(test)\\t|\\tAcc: {test_acc * 100:.1f}%(test)')\n",
        "    print()\n",
        "\n",
        "    train_logs += [train_loss, train_acc]\n",
        "    val_logs += [valid_loss, valid_acc]\n",
        "    test_logs += [test_loss, test_acc]\n",
        "\n",
        "  return train_logs, val_logs, test_logs"
      ],
      "execution_count": 0,
      "outputs": []
    },
    {
      "cell_type": "code",
      "metadata": {
        "id": "oRXLJv1rKSgv",
        "colab_type": "code",
        "colab": {}
      },
      "source": [
        "BATCH_SIZE = 128"
      ],
      "execution_count": 0,
      "outputs": []
    },
    {
      "cell_type": "code",
      "metadata": {
        "id": "RHXRvtrfV_jF",
        "colab_type": "code",
        "colab": {}
      },
      "source": [
        "embed_size = {feature:embedding_info[feature]['embedding_matrix'].shape[1] for feature in embedding_info.keys()}"
      ],
      "execution_count": 0,
      "outputs": []
    },
    {
      "cell_type": "code",
      "metadata": {
        "id": "iqOTmUwADL22",
        "colab_type": "code",
        "colab": {}
      },
      "source": [
        "N_EPOCHS = 10"
      ],
      "execution_count": 0,
      "outputs": []
    },
    {
      "cell_type": "markdown",
      "metadata": {
        "id": "28k2qumt-CGh",
        "colab_type": "text"
      },
      "source": [
        "## Statement | LSTM"
      ]
    },
    {
      "cell_type": "code",
      "metadata": {
        "id": "KvLOqdZ9JTYs",
        "colab_type": "code",
        "colab": {}
      },
      "source": [
        "seed_torch()\n",
        "build_batches()\n",
        "\n",
        "model = LSTM_Statement(\n",
        "    embedding_info=embedding_info, \n",
        "    embed_size=embed_size,\n",
        "    output_size=6, \n",
        "    hidden_size=256, \n",
        "    fnn_layer=256*3\n",
        "    ).to(device)\n",
        "\n",
        "optimizer = optim.Adam(model.parameters(), weight_decay=1e-5)\n",
        "loss_func = nn.CrossEntropyLoss().to(device)\n",
        "scheduler = torch.optim.lr_scheduler.StepLR(optimizer, 1, gamma=0.3)"
      ],
      "execution_count": 0,
      "outputs": []
    },
    {
      "cell_type": "code",
      "metadata": {
        "id": "Gib6uVck8GZh",
        "colab_type": "code",
        "colab": {
          "base_uri": "https://localhost:8080/",
          "height": 867
        },
        "outputId": "2ddb155b-f8b5-4b53-f3ca-0af230b07e0e"
      },
      "source": [
        "log_train, log_val, log_test = train_model(model, target_is_binary=False)"
      ],
      "execution_count": 123,
      "outputs": [
        {
          "output_type": "stream",
          "text": [
            "Epoch: 1  | time in 0 minutes, 7 seconds\n",
            "\tLoss: 1.8715(train)\t|\tAcc: 21.3%(train)\n",
            "\tLoss: 2.2168(valid)\t|\tAcc: 19.8%(valid)\n",
            "\tLoss: 1.9735(test)\t|\tAcc: 20.8%(test)\n",
            "\n",
            "Epoch: 2  | time in 0 minutes, 7 seconds\n",
            "\tLoss: 1.6780(train)\t|\tAcc: 29.4%(train)\n",
            "\tLoss: 2.0079(valid)\t|\tAcc: 23.0%(valid)\n",
            "\tLoss: 1.7776(test)\t|\tAcc: 23.2%(test)\n",
            "\n",
            "Epoch: 3  | time in 0 minutes, 7 seconds\n",
            "\tLoss: 1.5530(train)\t|\tAcc: 36.6%(train)\n",
            "\tLoss: 2.0173(valid)\t|\tAcc: 24.7%(valid)\n",
            "\tLoss: 1.7923(test)\t|\tAcc: 24.6%(test)\n",
            "\n",
            "Epoch: 4  | time in 0 minutes, 7 seconds\n",
            "\tLoss: 1.4787(train)\t|\tAcc: 40.5%(train)\n",
            "\tLoss: 2.0269(valid)\t|\tAcc: 24.4%(valid)\n",
            "\tLoss: 1.8001(test)\t|\tAcc: 24.5%(test)\n",
            "\n",
            "Epoch: 5  | time in 0 minutes, 7 seconds\n",
            "\tLoss: 1.4536(train)\t|\tAcc: 41.9%(train)\n",
            "\tLoss: 2.0372(valid)\t|\tAcc: 24.4%(valid)\n",
            "\tLoss: 1.8059(test)\t|\tAcc: 24.9%(test)\n",
            "\n",
            "Epoch: 6  | time in 0 minutes, 7 seconds\n",
            "\tLoss: 1.4441(train)\t|\tAcc: 42.2%(train)\n",
            "\tLoss: 2.0381(valid)\t|\tAcc: 24.2%(valid)\n",
            "\tLoss: 1.8077(test)\t|\tAcc: 24.4%(test)\n",
            "\n",
            "Epoch: 7  | time in 0 minutes, 7 seconds\n",
            "\tLoss: 1.4397(train)\t|\tAcc: 42.2%(train)\n",
            "\tLoss: 2.0386(valid)\t|\tAcc: 24.2%(valid)\n",
            "\tLoss: 1.8083(test)\t|\tAcc: 24.5%(test)\n",
            "\n",
            "Epoch: 8  | time in 0 minutes, 7 seconds\n",
            "\tLoss: 1.4349(train)\t|\tAcc: 43.2%(train)\n",
            "\tLoss: 2.0388(valid)\t|\tAcc: 24.2%(valid)\n",
            "\tLoss: 1.8085(test)\t|\tAcc: 24.6%(test)\n",
            "\n",
            "Epoch: 9  | time in 0 minutes, 7 seconds\n",
            "\tLoss: 1.4407(train)\t|\tAcc: 42.1%(train)\n",
            "\tLoss: 2.0389(valid)\t|\tAcc: 24.2%(valid)\n",
            "\tLoss: 1.8085(test)\t|\tAcc: 24.6%(test)\n",
            "\n",
            "Epoch: 10  | time in 0 minutes, 7 seconds\n",
            "\tLoss: 1.4413(train)\t|\tAcc: 41.7%(train)\n",
            "\tLoss: 2.0389(valid)\t|\tAcc: 24.2%(valid)\n",
            "\tLoss: 1.8085(test)\t|\tAcc: 24.6%(test)\n",
            "\n"
          ],
          "name": "stdout"
        }
      ]
    },
    {
      "cell_type": "markdown",
      "metadata": {
        "id": "8rOpPNzh8HWC",
        "colab_type": "text"
      },
      "source": [
        "## Statement | CNN "
      ]
    },
    {
      "cell_type": "code",
      "metadata": {
        "id": "XCEORnHGQx4D",
        "colab_type": "code",
        "colab": {}
      },
      "source": [
        "seed_torch()\n",
        "build_batches()\n",
        "\n",
        "model = CNN_Statement(\n",
        "    embedding_info=embedding_info, \n",
        "    embed_size=embed_size, \n",
        "    output_size=6, \n",
        "    fnn_layer=512, \n",
        "    out_channels=128, \n",
        "    kernels=(3,4,5)\n",
        "    ).to(device)\n",
        "\n",
        "optimizer = optim.Adam(model.parameters(), weight_decay=1e-2)\n",
        "loss_func = nn.CrossEntropyLoss().to(device)\n",
        "scheduler = torch.optim.lr_scheduler.StepLR(optimizer, 1, gamma=0.1)"
      ],
      "execution_count": 0,
      "outputs": []
    },
    {
      "cell_type": "code",
      "metadata": {
        "id": "l1MPDXiJ8Nr-",
        "colab_type": "code",
        "colab": {
          "base_uri": "https://localhost:8080/",
          "height": 867
        },
        "outputId": "75f7401c-16de-47ff-b6df-18ec5995bee5"
      },
      "source": [
        "log_train, log_val, log_test = train_model(model, target_is_binary=False)"
      ],
      "execution_count": 119,
      "outputs": [
        {
          "output_type": "stream",
          "text": [
            "Epoch: 1  | time in 0 minutes, 9 seconds\n",
            "\tLoss: 1.8466(train)\t|\tAcc: 21.0%(train)\n",
            "\tLoss: 2.0305(valid)\t|\tAcc: 20.6%(valid)\n",
            "\tLoss: 1.8277(test)\t|\tAcc: 21.0%(test)\n",
            "\n",
            "Epoch: 2  | time in 0 minutes, 9 seconds\n",
            "\tLoss: 1.6207(train)\t|\tAcc: 34.3%(train)\n",
            "\tLoss: 2.0015(valid)\t|\tAcc: 23.2%(valid)\n",
            "\tLoss: 1.7857(test)\t|\tAcc: 23.0%(test)\n",
            "\n",
            "Epoch: 3  | time in 0 minutes, 9 seconds\n",
            "\tLoss: 1.4966(train)\t|\tAcc: 43.5%(train)\n",
            "\tLoss: 2.0034(valid)\t|\tAcc: 22.7%(valid)\n",
            "\tLoss: 1.7868(test)\t|\tAcc: 23.0%(test)\n",
            "\n",
            "Epoch: 4  | time in 0 minutes, 9 seconds\n",
            "\tLoss: 1.4758(train)\t|\tAcc: 44.6%(train)\n",
            "\tLoss: 2.0039(valid)\t|\tAcc: 22.9%(valid)\n",
            "\tLoss: 1.7871(test)\t|\tAcc: 22.9%(test)\n",
            "\n",
            "Epoch: 5  | time in 0 minutes, 9 seconds\n",
            "\tLoss: 1.4784(train)\t|\tAcc: 44.4%(train)\n",
            "\tLoss: 2.0040(valid)\t|\tAcc: 22.9%(valid)\n",
            "\tLoss: 1.7872(test)\t|\tAcc: 22.9%(test)\n",
            "\n",
            "Epoch: 6  | time in 0 minutes, 9 seconds\n",
            "\tLoss: 1.4764(train)\t|\tAcc: 43.9%(train)\n",
            "\tLoss: 2.0040(valid)\t|\tAcc: 22.9%(valid)\n",
            "\tLoss: 1.7872(test)\t|\tAcc: 22.9%(test)\n",
            "\n",
            "Epoch: 7  | time in 0 minutes, 9 seconds\n",
            "\tLoss: 1.4746(train)\t|\tAcc: 44.2%(train)\n",
            "\tLoss: 2.0040(valid)\t|\tAcc: 22.9%(valid)\n",
            "\tLoss: 1.7872(test)\t|\tAcc: 22.9%(test)\n",
            "\n",
            "Epoch: 8  | time in 0 minutes, 9 seconds\n",
            "\tLoss: 1.4770(train)\t|\tAcc: 44.2%(train)\n",
            "\tLoss: 2.0040(valid)\t|\tAcc: 22.9%(valid)\n",
            "\tLoss: 1.7872(test)\t|\tAcc: 22.9%(test)\n",
            "\n",
            "Epoch: 9  | time in 0 minutes, 9 seconds\n",
            "\tLoss: 1.4727(train)\t|\tAcc: 45.1%(train)\n",
            "\tLoss: 2.0040(valid)\t|\tAcc: 22.9%(valid)\n",
            "\tLoss: 1.7872(test)\t|\tAcc: 22.9%(test)\n",
            "\n",
            "Epoch: 10  | time in 0 minutes, 9 seconds\n",
            "\tLoss: 1.4790(train)\t|\tAcc: 44.6%(train)\n",
            "\tLoss: 2.0040(valid)\t|\tAcc: 22.9%(valid)\n",
            "\tLoss: 1.7872(test)\t|\tAcc: 22.9%(test)\n",
            "\n"
          ],
          "name": "stdout"
        }
      ]
    },
    {
      "cell_type": "markdown",
      "metadata": {
        "id": "QIRE31ZFlSPw",
        "colab_type": "text"
      },
      "source": [
        "## Statement + Meta-data | LSTM"
      ]
    },
    {
      "cell_type": "code",
      "metadata": {
        "id": "S8NGhwZCTPjN",
        "colab_type": "code",
        "colab": {}
      },
      "source": [
        "seed_torch()\n",
        "build_batches()\n",
        "\n",
        "model = LSTM_statement_metadata(\n",
        "    embedding_info=embedding_info, \n",
        "    embed_size=embed_size, \n",
        "    output_size=6, \n",
        "    hidden_size=150, \n",
        "    fnn_meta_layer=512, \n",
        "    fnn_final_layer=512\n",
        "    ).to(device)\n",
        "\n",
        "optimizer = optim.Adam(model.parameters(), weight_decay=1e-4)\n",
        "loss_func = nn.CrossEntropyLoss().to(device)\n",
        "scheduler = torch.optim.lr_scheduler.StepLR(optimizer, 1, gamma=0.3)"
      ],
      "execution_count": 0,
      "outputs": []
    },
    {
      "cell_type": "code",
      "metadata": {
        "id": "jo4PseF2EEPp",
        "colab_type": "code",
        "colab": {
          "base_uri": "https://localhost:8080/",
          "height": 867
        },
        "outputId": "8ca3d4d8-2d31-4507-aed2-27e1d026ec14"
      },
      "source": [
        "log_train, log_val, log_test = train_model(model, target_is_binary=False)"
      ],
      "execution_count": 130,
      "outputs": [
        {
          "output_type": "stream",
          "text": [
            "Epoch: 1  | time in 0 minutes, 5 seconds\n",
            "\tLoss: 1.9194(train)\t|\tAcc: 21.0%(train)\n",
            "\tLoss: 2.1114(valid)\t|\tAcc: 21.0%(valid)\n",
            "\tLoss: 1.8613(test)\t|\tAcc: 22.7%(test)\n",
            "\n",
            "Epoch: 2  | time in 0 minutes, 5 seconds\n",
            "\tLoss: 1.7335(train)\t|\tAcc: 27.0%(train)\n",
            "\tLoss: 1.9855(valid)\t|\tAcc: 24.6%(valid)\n",
            "\tLoss: 1.7711(test)\t|\tAcc: 24.4%(test)\n",
            "\n",
            "Epoch: 3  | time in 0 minutes, 5 seconds\n",
            "\tLoss: 1.6545(train)\t|\tAcc: 31.9%(train)\n",
            "\tLoss: 1.9740(valid)\t|\tAcc: 26.8%(valid)\n",
            "\tLoss: 1.7553(test)\t|\tAcc: 26.0%(test)\n",
            "\n",
            "Epoch: 4  | time in 0 minutes, 5 seconds\n",
            "\tLoss: 1.6211(train)\t|\tAcc: 33.3%(train)\n",
            "\tLoss: 1.9673(valid)\t|\tAcc: 27.1%(valid)\n",
            "\tLoss: 1.7539(test)\t|\tAcc: 25.7%(test)\n",
            "\n",
            "Epoch: 5  | time in 0 minutes, 5 seconds\n",
            "\tLoss: 1.6137(train)\t|\tAcc: 33.1%(train)\n",
            "\tLoss: 1.9683(valid)\t|\tAcc: 27.3%(valid)\n",
            "\tLoss: 1.7536(test)\t|\tAcc: 25.7%(test)\n",
            "\n",
            "Epoch: 6  | time in 0 minutes, 5 seconds\n",
            "\tLoss: 1.6023(train)\t|\tAcc: 34.0%(train)\n",
            "\tLoss: 1.9688(valid)\t|\tAcc: 27.4%(valid)\n",
            "\tLoss: 1.7535(test)\t|\tAcc: 25.7%(test)\n",
            "\n",
            "Epoch: 7  | time in 0 minutes, 5 seconds\n",
            "\tLoss: 1.6091(train)\t|\tAcc: 33.6%(train)\n",
            "\tLoss: 1.9694(valid)\t|\tAcc: 27.4%(valid)\n",
            "\tLoss: 1.7535(test)\t|\tAcc: 25.7%(test)\n",
            "\n",
            "Epoch: 8  | time in 0 minutes, 5 seconds\n",
            "\tLoss: 1.6082(train)\t|\tAcc: 33.8%(train)\n",
            "\tLoss: 1.9695(valid)\t|\tAcc: 27.3%(valid)\n",
            "\tLoss: 1.7535(test)\t|\tAcc: 25.7%(test)\n",
            "\n",
            "Epoch: 9  | time in 0 minutes, 5 seconds\n",
            "\tLoss: 1.6102(train)\t|\tAcc: 33.6%(train)\n",
            "\tLoss: 1.9695(valid)\t|\tAcc: 27.3%(valid)\n",
            "\tLoss: 1.7535(test)\t|\tAcc: 25.7%(test)\n",
            "\n",
            "Epoch: 10  | time in 0 minutes, 5 seconds\n",
            "\tLoss: 1.6130(train)\t|\tAcc: 34.1%(train)\n",
            "\tLoss: 1.9695(valid)\t|\tAcc: 27.3%(valid)\n",
            "\tLoss: 1.7535(test)\t|\tAcc: 25.7%(test)\n",
            "\n"
          ],
          "name": "stdout"
        }
      ]
    },
    {
      "cell_type": "markdown",
      "metadata": {
        "id": "wjmOEwANtvOp",
        "colab_type": "text"
      },
      "source": [
        "## Statement + Meta-data + Justification | LSTM"
      ]
    },
    {
      "cell_type": "code",
      "metadata": {
        "id": "Fp10zapiEFlg",
        "colab_type": "code",
        "colab": {}
      },
      "source": [
        "seed_torch()\n",
        "build_batches()\n",
        "\n",
        "model = LSTMFullData(\n",
        "    embedding_info=embedding_info, \n",
        "    output_size=6, \n",
        "    fnn_meta_layer=512, \n",
        "    fnn_final_layer=256, \n",
        "    embed_size=embed_size,\n",
        "    hidden_size=150\n",
        "    ).to(device)\n",
        "\n",
        "optimizer = optim.Adam(model.parameters(), weight_decay=1e-4)\n",
        "loss_func = nn.CrossEntropyLoss().to(device)\n",
        "scheduler = torch.optim.lr_scheduler.StepLR(optimizer, 1, gamma=0.3)"
      ],
      "execution_count": 0,
      "outputs": []
    },
    {
      "cell_type": "code",
      "metadata": {
        "id": "LVa8VlPbm4qa",
        "colab_type": "code",
        "colab": {
          "base_uri": "https://localhost:8080/",
          "height": 867
        },
        "outputId": "b8f0fafb-62e4-4018-8806-9153df997c7a"
      },
      "source": [
        "log_train, log_val, log_test = train_model(model, target_is_binary=False)"
      ],
      "execution_count": 138,
      "outputs": [
        {
          "output_type": "stream",
          "text": [
            "Epoch: 1  | time in 0 minutes, 14 seconds\n",
            "\tLoss: 1.9027(train)\t|\tAcc: 20.6%(train)\n",
            "\tLoss: 1.9811(valid)\t|\tAcc: 23.7%(valid)\n",
            "\tLoss: 1.7992(test)\t|\tAcc: 23.0%(test)\n",
            "\n",
            "Epoch: 2  | time in 0 minutes, 13 seconds\n",
            "\tLoss: 1.7142(train)\t|\tAcc: 28.8%(train)\n",
            "\tLoss: 1.9455(valid)\t|\tAcc: 25.0%(valid)\n",
            "\tLoss: 1.7444(test)\t|\tAcc: 25.5%(test)\n",
            "\n",
            "Epoch: 3  | time in 0 minutes, 14 seconds\n",
            "\tLoss: 1.6150(train)\t|\tAcc: 34.1%(train)\n",
            "\tLoss: 1.9463(valid)\t|\tAcc: 26.0%(valid)\n",
            "\tLoss: 1.7394(test)\t|\tAcc: 26.4%(test)\n",
            "\n",
            "Epoch: 4  | time in 0 minutes, 14 seconds\n",
            "\tLoss: 1.5754(train)\t|\tAcc: 36.1%(train)\n",
            "\tLoss: 1.9513(valid)\t|\tAcc: 26.1%(valid)\n",
            "\tLoss: 1.7404(test)\t|\tAcc: 26.8%(test)\n",
            "\n",
            "Epoch: 5  | time in 0 minutes, 14 seconds\n",
            "\tLoss: 1.5612(train)\t|\tAcc: 36.9%(train)\n",
            "\tLoss: 1.9537(valid)\t|\tAcc: 26.0%(valid)\n",
            "\tLoss: 1.7412(test)\t|\tAcc: 26.7%(test)\n",
            "\n",
            "Epoch: 6  | time in 0 minutes, 14 seconds\n",
            "\tLoss: 1.5561(train)\t|\tAcc: 37.3%(train)\n",
            "\tLoss: 1.9540(valid)\t|\tAcc: 26.0%(valid)\n",
            "\tLoss: 1.7414(test)\t|\tAcc: 26.8%(test)\n",
            "\n",
            "Epoch: 7  | time in 0 minutes, 14 seconds\n",
            "\tLoss: 1.5469(train)\t|\tAcc: 38.0%(train)\n",
            "\tLoss: 1.9543(valid)\t|\tAcc: 26.0%(valid)\n",
            "\tLoss: 1.7415(test)\t|\tAcc: 26.8%(test)\n",
            "\n",
            "Epoch: 8  | time in 0 minutes, 14 seconds\n",
            "\tLoss: 1.5540(train)\t|\tAcc: 37.4%(train)\n",
            "\tLoss: 1.9544(valid)\t|\tAcc: 26.0%(valid)\n",
            "\tLoss: 1.7416(test)\t|\tAcc: 26.8%(test)\n",
            "\n",
            "Epoch: 9  | time in 0 minutes, 14 seconds\n",
            "\tLoss: 1.5485(train)\t|\tAcc: 37.4%(train)\n",
            "\tLoss: 1.9544(valid)\t|\tAcc: 26.0%(valid)\n",
            "\tLoss: 1.7416(test)\t|\tAcc: 26.8%(test)\n",
            "\n",
            "Epoch: 10  | time in 0 minutes, 14 seconds\n",
            "\tLoss: 1.5542(train)\t|\tAcc: 37.4%(train)\n",
            "\tLoss: 1.9544(valid)\t|\tAcc: 26.0%(valid)\n",
            "\tLoss: 1.7416(test)\t|\tAcc: 26.8%(test)\n",
            "\n"
          ],
          "name": "stdout"
        }
      ]
    },
    {
      "cell_type": "markdown",
      "metadata": {
        "id": "EXynCmZX65en",
        "colab_type": "text"
      },
      "source": [
        "## Statement + Meta-data + Justification | LSTM-Attention"
      ]
    },
    {
      "cell_type": "code",
      "metadata": {
        "id": "QnDH4dUGvQxK",
        "colab_type": "code",
        "colab": {}
      },
      "source": [
        "seed_torch()\n",
        "build_batches()\n",
        "\n",
        "model = LSTMattentionFullData(\n",
        "    embedding_info=embedding_info, \n",
        "    output_size=6, \n",
        "    fnn_meta_layer=512, \n",
        "    fnn_final_layer=256, \n",
        "    embed_size=embed_size,\n",
        "    hidden_size=150\n",
        "    ).to(device)\n",
        "\n",
        "optimizer = optim.Adam(model.parameters(), weight_decay=1e-4)\n",
        "loss_func = nn.CrossEntropyLoss().to(device)\n",
        "scheduler = torch.optim.lr_scheduler.StepLR(optimizer, 1, gamma=0.4)"
      ],
      "execution_count": 0,
      "outputs": []
    },
    {
      "cell_type": "code",
      "metadata": {
        "id": "wppkiPO4vWv3",
        "colab_type": "code",
        "colab": {
          "base_uri": "https://localhost:8080/",
          "height": 867
        },
        "outputId": "8b046f80-d4d7-4e37-cbe3-d3d685a66e85"
      },
      "source": [
        "log_train, log_val, log_test = train_model(model, target_is_binary=False)"
      ],
      "execution_count": 111,
      "outputs": [
        {
          "output_type": "stream",
          "text": [
            "Epoch: 1  | time in 0 minutes, 26 seconds\n",
            "\tLoss: 1.8819(train)\t|\tAcc: 19.9%(train)\n",
            "\tLoss: 1.9705(valid)\t|\tAcc: 23.3%(valid)\n",
            "\tLoss: 1.8051(test)\t|\tAcc: 21.3%(test)\n",
            "\n",
            "Epoch: 2  | time in 0 minutes, 25 seconds\n",
            "\tLoss: 1.7417(train)\t|\tAcc: 23.9%(train)\n",
            "\tLoss: 1.9237(valid)\t|\tAcc: 25.2%(valid)\n",
            "\tLoss: 1.7674(test)\t|\tAcc: 25.7%(test)\n",
            "\n",
            "Epoch: 3  | time in 0 minutes, 25 seconds\n",
            "\tLoss: 1.6621(train)\t|\tAcc: 28.7%(train)\n",
            "\tLoss: 1.9066(valid)\t|\tAcc: 26.8%(valid)\n",
            "\tLoss: 1.7410(test)\t|\tAcc: 26.4%(test)\n",
            "\n",
            "Epoch: 4  | time in 0 minutes, 25 seconds\n",
            "\tLoss: 1.5995(train)\t|\tAcc: 32.7%(train)\n",
            "\tLoss: 1.9216(valid)\t|\tAcc: 27.2%(valid)\n",
            "\tLoss: 1.7492(test)\t|\tAcc: 26.6%(test)\n",
            "\n",
            "Epoch: 5  | time in 0 minutes, 25 seconds\n",
            "\tLoss: 1.5759(train)\t|\tAcc: 33.7%(train)\n",
            "\tLoss: 1.9164(valid)\t|\tAcc: 26.6%(valid)\n",
            "\tLoss: 1.7526(test)\t|\tAcc: 26.5%(test)\n",
            "\n",
            "Epoch: 6  | time in 0 minutes, 25 seconds\n",
            "\tLoss: 1.5574(train)\t|\tAcc: 34.9%(train)\n",
            "\tLoss: 1.9196(valid)\t|\tAcc: 26.7%(valid)\n",
            "\tLoss: 1.7572(test)\t|\tAcc: 26.5%(test)\n",
            "\n",
            "Epoch: 7  | time in 0 minutes, 26 seconds\n",
            "\tLoss: 1.5555(train)\t|\tAcc: 35.0%(train)\n",
            "\tLoss: 1.9212(valid)\t|\tAcc: 26.7%(valid)\n",
            "\tLoss: 1.7586(test)\t|\tAcc: 26.4%(test)\n",
            "\n",
            "Epoch: 8  | time in 0 minutes, 25 seconds\n",
            "\tLoss: 1.5589(train)\t|\tAcc: 34.6%(train)\n",
            "\tLoss: 1.9218(valid)\t|\tAcc: 26.3%(valid)\n",
            "\tLoss: 1.7588(test)\t|\tAcc: 26.5%(test)\n",
            "\n",
            "Epoch: 9  | time in 0 minutes, 25 seconds\n",
            "\tLoss: 1.5509(train)\t|\tAcc: 35.0%(train)\n",
            "\tLoss: 1.9220(valid)\t|\tAcc: 26.3%(valid)\n",
            "\tLoss: 1.7590(test)\t|\tAcc: 26.5%(test)\n",
            "\n",
            "Epoch: 10  | time in 0 minutes, 25 seconds\n",
            "\tLoss: 1.5506(train)\t|\tAcc: 35.3%(train)\n",
            "\tLoss: 1.9220(valid)\t|\tAcc: 26.3%(valid)\n",
            "\tLoss: 1.7591(test)\t|\tAcc: 26.5%(test)\n",
            "\n"
          ],
          "name": "stdout"
        }
      ]
    }
  ]
}
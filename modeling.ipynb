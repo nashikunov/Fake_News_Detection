{
  "nbformat": 4,
  "nbformat_minor": 0,
  "metadata": {
    "kernelspec": {
      "display_name": "Python 3",
      "language": "python",
      "name": "python3"
    },
    "language_info": {
      "codemirror_mode": {
        "name": "ipython",
        "version": 3
      },
      "file_extension": ".py",
      "mimetype": "text/x-python",
      "name": "python",
      "nbconvert_exporter": "python",
      "pygments_lexer": "ipython3",
      "version": "3.7.3"
    },
    "colab": {
      "name": "modeling.ipynb",
      "provenance": [],
      "collapsed_sections": [
        "J8j2XiMGtI0b",
        "lGw6cYI2RclL",
        "_vUfJVJPBxjG"
      ]
    },
    "accelerator": "GPU"
  },
  "cells": [
    {
      "cell_type": "code",
      "metadata": {
        "id": "EMNOUiHr1fNl",
        "colab_type": "code",
        "outputId": "dc2ca962-7524-4594-963e-2e8e8adba714",
        "colab": {
          "base_uri": "https://localhost:8080/",
          "height": 122
        }
      },
      "source": [
        "from google.colab import drive \n",
        "drive.mount('/content/drive', force_remount=True)"
      ],
      "execution_count": 1,
      "outputs": [
        {
          "output_type": "stream",
          "text": [
            "Go to this URL in a browser: https://accounts.google.com/o/oauth2/auth?client_id=947318989803-6bn6qk8qdgf4n4g3pfee6491hc0brc4i.apps.googleusercontent.com&redirect_uri=urn%3aietf%3awg%3aoauth%3a2.0%3aoob&response_type=code&scope=email%20https%3a%2f%2fwww.googleapis.com%2fauth%2fdocs.test%20https%3a%2f%2fwww.googleapis.com%2fauth%2fdrive%20https%3a%2f%2fwww.googleapis.com%2fauth%2fdrive.photos.readonly%20https%3a%2f%2fwww.googleapis.com%2fauth%2fpeopleapi.readonly\n",
            "\n",
            "Enter your authorization code:\n",
            "··········\n",
            "Mounted at /content/drive\n"
          ],
          "name": "stdout"
        }
      ]
    },
    {
      "cell_type": "code",
      "metadata": {
        "id": "gld9xAoXBzPf",
        "colab_type": "code",
        "colab": {
          "base_uri": "https://localhost:8080/",
          "height": 34
        },
        "outputId": "c2e78c3b-8dd1-4634-9237-d84ad6da3fbb"
      },
      "source": [
        "import pandas as pd\n",
        "import numpy as np\n",
        "\n",
        "import gensim\n",
        "\n",
        "from sklearn.linear_model import LogisticRegression\n",
        "from sklearn.svm import SVC\n",
        "\n",
        "from sklearn.feature_extraction.text import TfidfVectorizer\n",
        "from sklearn.metrics import accuracy_score, f1_score, classification_report, roc_auc_score, precision_score, recall_score\n",
        "from sklearn.preprocessing import LabelEncoder\n",
        "import string\n",
        "import matplotlib.pyplot as plt\n",
        "from keras.preprocessing.text import Tokenizer\n",
        "from keras.preprocessing.sequence import pad_sequences\n",
        "\n",
        "import warnings\n",
        "warnings.filterwarnings(\"ignore\")"
      ],
      "execution_count": 2,
      "outputs": [
        {
          "output_type": "stream",
          "text": [
            "Using TensorFlow backend.\n"
          ],
          "name": "stderr"
        }
      ]
    },
    {
      "cell_type": "code",
      "metadata": {
        "id": "9u0MVkylYfSj",
        "colab_type": "code",
        "colab": {
          "base_uri": "https://localhost:8080/",
          "height": 343
        },
        "outputId": "0a007a63-ee3d-4347-cf31-680a6bcf4b62"
      },
      "source": [
        "!pip install torchtext==0.4"
      ],
      "execution_count": 3,
      "outputs": [
        {
          "output_type": "stream",
          "text": [
            "Collecting torchtext==0.4\n",
            "\u001b[?25l  Downloading https://files.pythonhosted.org/packages/43/94/929d6bd236a4fb5c435982a7eb9730b78dcd8659acf328fd2ef9de85f483/torchtext-0.4.0-py3-none-any.whl (53kB)\n",
            "\r\u001b[K     |██████▏                         | 10kB 21.8MB/s eta 0:00:01\r\u001b[K     |████████████▍                   | 20kB 28.4MB/s eta 0:00:01\r\u001b[K     |██████████████████▌             | 30kB 33.5MB/s eta 0:00:01\r\u001b[K     |████████████████████████▊       | 40kB 27.2MB/s eta 0:00:01\r\u001b[K     |██████████████████████████████▉ | 51kB 18.9MB/s eta 0:00:01\r\u001b[K     |████████████████████████████████| 61kB 7.8MB/s \n",
            "\u001b[?25hRequirement already satisfied: numpy in /usr/local/lib/python3.6/dist-packages (from torchtext==0.4) (1.18.4)\n",
            "Requirement already satisfied: six in /usr/local/lib/python3.6/dist-packages (from torchtext==0.4) (1.12.0)\n",
            "Requirement already satisfied: torch in /usr/local/lib/python3.6/dist-packages (from torchtext==0.4) (1.5.0+cu101)\n",
            "Requirement already satisfied: requests in /usr/local/lib/python3.6/dist-packages (from torchtext==0.4) (2.23.0)\n",
            "Requirement already satisfied: tqdm in /usr/local/lib/python3.6/dist-packages (from torchtext==0.4) (4.41.1)\n",
            "Requirement already satisfied: future in /usr/local/lib/python3.6/dist-packages (from torch->torchtext==0.4) (0.16.0)\n",
            "Requirement already satisfied: urllib3!=1.25.0,!=1.25.1,<1.26,>=1.21.1 in /usr/local/lib/python3.6/dist-packages (from requests->torchtext==0.4) (1.24.3)\n",
            "Requirement already satisfied: certifi>=2017.4.17 in /usr/local/lib/python3.6/dist-packages (from requests->torchtext==0.4) (2020.4.5.1)\n",
            "Requirement already satisfied: chardet<4,>=3.0.2 in /usr/local/lib/python3.6/dist-packages (from requests->torchtext==0.4) (3.0.4)\n",
            "Requirement already satisfied: idna<3,>=2.5 in /usr/local/lib/python3.6/dist-packages (from requests->torchtext==0.4) (2.9)\n",
            "Installing collected packages: torchtext\n",
            "  Found existing installation: torchtext 0.3.1\n",
            "    Uninstalling torchtext-0.3.1:\n",
            "      Successfully uninstalled torchtext-0.3.1\n",
            "Successfully installed torchtext-0.4.0\n"
          ],
          "name": "stdout"
        }
      ]
    },
    {
      "cell_type": "code",
      "metadata": {
        "id": "uPlHmo-eZe_f",
        "colab_type": "code",
        "colab": {}
      },
      "source": [
        "import torch\n",
        "from torchtext import data, datasets, vocab, utils\n",
        "import torch.nn as nn\n",
        "import torchsummary"
      ],
      "execution_count": 0,
      "outputs": []
    },
    {
      "cell_type": "code",
      "metadata": {
        "id": "pVb0cHPdDQMT",
        "colab_type": "code",
        "colab": {}
      },
      "source": [
        "PATH = '/content/drive/My Drive/Colab Notebooks/Fake_News_Detection/dataset/'"
      ],
      "execution_count": 0,
      "outputs": []
    },
    {
      "cell_type": "code",
      "metadata": {
        "id": "sv4ctIMGCv5G",
        "colab_type": "code",
        "colab": {}
      },
      "source": [
        "df = pd.read_csv(PATH+'data_clean_with_onehot.csv')"
      ],
      "execution_count": 0,
      "outputs": []
    },
    {
      "cell_type": "code",
      "metadata": {
        "id": "1B7Qfa2A-3i2",
        "colab_type": "code",
        "colab": {}
      },
      "source": [
        "train_index = df.query(\"data_type == 'train'\").index\n",
        "val_index = df.query(\"data_type == 'val'\").index\n",
        "test_index = df.query(\"data_type == 'test'\").index"
      ],
      "execution_count": 0,
      "outputs": []
    },
    {
      "cell_type": "code",
      "metadata": {
        "id": "nJ_6d3juD6fd",
        "colab_type": "code",
        "colab": {}
      },
      "source": [
        "y_train_multi = df.loc[train_index, 'label']\n",
        "y_val_multi = df.loc[val_index, 'label']\n",
        "y_test_multi = df.loc[test_index, 'label']\n",
        "\n",
        "y_train_binary = df.loc[train_index, 'is_fake']\n",
        "y_val_binary = df.loc[val_index, 'is_fake']\n",
        "y_test_binary = df.loc[test_index, 'is_fake']"
      ],
      "execution_count": 0,
      "outputs": []
    },
    {
      "cell_type": "code",
      "metadata": {
        "id": "yZDI0G9AbQ9Q",
        "colab_type": "code",
        "colab": {}
      },
      "source": [
        "train_sentences = df.loc[train_index].statement.values\n",
        "val_sentences = df.loc[val_index].statement.values\n",
        "test_sentences = df.loc[test_index].statement.values"
      ],
      "execution_count": 0,
      "outputs": []
    },
    {
      "cell_type": "markdown",
      "metadata": {
        "id": "J8j2XiMGtI0b",
        "colab_type": "text"
      },
      "source": [
        "# Baseline"
      ]
    },
    {
      "cell_type": "markdown",
      "metadata": {
        "id": "6YSzOMuAPO__",
        "colab_type": "text"
      },
      "source": [
        "##Majority vote model (baseline)"
      ]
    },
    {
      "cell_type": "code",
      "metadata": {
        "id": "3335L_u-rocf",
        "colab_type": "code",
        "colab": {}
      },
      "source": [
        "def get_metrics(true, predicted, binary=True):\n",
        "  if binary:\n",
        "    return pd.DataFrame({\"Accuracy\": [round(accuracy_score(true, predicted), 4)],\n",
        "  \"Precision\": [round(precision_score(true, predicted), 4)],\n",
        "  \"Recall\": [round(recall_score(true, predicted), 4)],\n",
        "  \"F1\": [round(f1_score(true, predicted), 4)]})\n",
        "  else:\n",
        "    return pd.DataFrame({\"Accuracy\": [round(accuracy_score(true, predicted), 4)],\n",
        "  \"Precision\": [round(precision_score(true, predicted, average='macro'), 4)],\n",
        "  \"Recall\": [round(recall_score(true, predicted, average='macro'), 4)],\n",
        "  \"F1\": [round(f1_score(true, predicted, average='macro'), 4)]})"
      ],
      "execution_count": 0,
      "outputs": []
    },
    {
      "cell_type": "markdown",
      "metadata": {
        "id": "sg4O8-k5Q7E3",
        "colab_type": "text"
      },
      "source": [
        "### Multiclass classification"
      ]
    },
    {
      "cell_type": "code",
      "metadata": {
        "id": "JOG-DrUFPabn",
        "colab_type": "code",
        "colab": {}
      },
      "source": [
        "multi_popular = y_train_multi.value_counts().index[0]"
      ],
      "execution_count": 0,
      "outputs": []
    },
    {
      "cell_type": "code",
      "metadata": {
        "id": "d0gyZB6gQCVI",
        "colab_type": "code",
        "colab": {
          "base_uri": "https://localhost:8080/",
          "height": 80
        },
        "outputId": "8a22628e-5f6e-4883-af37-ee9da8eced90"
      },
      "source": [
        "get_metrics(y_test_multi, [multi_popular]*len(y_test_multi), binary=False)"
      ],
      "execution_count": 14,
      "outputs": [
        {
          "output_type": "execute_result",
          "data": {
            "text/html": [
              "<div>\n",
              "<style scoped>\n",
              "    .dataframe tbody tr th:only-of-type {\n",
              "        vertical-align: middle;\n",
              "    }\n",
              "\n",
              "    .dataframe tbody tr th {\n",
              "        vertical-align: top;\n",
              "    }\n",
              "\n",
              "    .dataframe thead th {\n",
              "        text-align: right;\n",
              "    }\n",
              "</style>\n",
              "<table border=\"1\" class=\"dataframe\">\n",
              "  <thead>\n",
              "    <tr style=\"text-align: right;\">\n",
              "      <th></th>\n",
              "      <th>Accuracy</th>\n",
              "      <th>Precision</th>\n",
              "      <th>Recall</th>\n",
              "      <th>F1</th>\n",
              "    </tr>\n",
              "  </thead>\n",
              "  <tbody>\n",
              "    <tr>\n",
              "      <th>0</th>\n",
              "      <td>0.2092</td>\n",
              "      <td>0.0349</td>\n",
              "      <td>0.1667</td>\n",
              "      <td>0.0577</td>\n",
              "    </tr>\n",
              "  </tbody>\n",
              "</table>\n",
              "</div>"
            ],
            "text/plain": [
              "   Accuracy  Precision  Recall      F1\n",
              "0    0.2092     0.0349  0.1667  0.0577"
            ]
          },
          "metadata": {
            "tags": []
          },
          "execution_count": 14
        }
      ]
    },
    {
      "cell_type": "markdown",
      "metadata": {
        "id": "nLFZFyTvRDYX",
        "colab_type": "text"
      },
      "source": [
        "### Binary Classification"
      ]
    },
    {
      "cell_type": "code",
      "metadata": {
        "id": "65sIfHpEP8qd",
        "colab_type": "code",
        "colab": {}
      },
      "source": [
        "binary_popular = y_train_binary.value_counts().index[0]"
      ],
      "execution_count": 0,
      "outputs": []
    },
    {
      "cell_type": "code",
      "metadata": {
        "id": "CECUl4_IQt2S",
        "colab_type": "code",
        "colab": {
          "base_uri": "https://localhost:8080/",
          "height": 80
        },
        "outputId": "1183329e-2bf5-4574-eadf-7d3a545720c0"
      },
      "source": [
        "get_metrics(y_test_binary, [binary_popular]*len(y_test_binary), binary=False)"
      ],
      "execution_count": 16,
      "outputs": [
        {
          "output_type": "execute_result",
          "data": {
            "text/html": [
              "<div>\n",
              "<style scoped>\n",
              "    .dataframe tbody tr th:only-of-type {\n",
              "        vertical-align: middle;\n",
              "    }\n",
              "\n",
              "    .dataframe tbody tr th {\n",
              "        vertical-align: top;\n",
              "    }\n",
              "\n",
              "    .dataframe thead th {\n",
              "        text-align: right;\n",
              "    }\n",
              "</style>\n",
              "<table border=\"1\" class=\"dataframe\">\n",
              "  <thead>\n",
              "    <tr style=\"text-align: right;\">\n",
              "      <th></th>\n",
              "      <th>Accuracy</th>\n",
              "      <th>Precision</th>\n",
              "      <th>Recall</th>\n",
              "      <th>F1</th>\n",
              "    </tr>\n",
              "  </thead>\n",
              "  <tbody>\n",
              "    <tr>\n",
              "      <th>0</th>\n",
              "      <td>0.5635</td>\n",
              "      <td>0.2818</td>\n",
              "      <td>0.5</td>\n",
              "      <td>0.3604</td>\n",
              "    </tr>\n",
              "  </tbody>\n",
              "</table>\n",
              "</div>"
            ],
            "text/plain": [
              "   Accuracy  Precision  Recall      F1\n",
              "0    0.5635     0.2818     0.5  0.3604"
            ]
          },
          "metadata": {
            "tags": []
          },
          "execution_count": 16
        }
      ]
    },
    {
      "cell_type": "markdown",
      "metadata": {
        "id": "F8fvS0M7-cFi",
        "colab_type": "text"
      },
      "source": [
        "## TF-IDF LogisticRegression"
      ]
    },
    {
      "cell_type": "markdown",
      "metadata": {
        "id": "EKRZuOhktb_0",
        "colab_type": "text"
      },
      "source": [
        "### \"Statement\" model"
      ]
    },
    {
      "cell_type": "code",
      "metadata": {
        "id": "-1GWLcWCRRPk",
        "colab_type": "code",
        "colab": {}
      },
      "source": [
        "tfidf = TfidfVectorizer(ngram_range=(1, 3), sublinear_tf=True, max_df=0.8)"
      ],
      "execution_count": 0,
      "outputs": []
    },
    {
      "cell_type": "code",
      "metadata": {
        "id": "rO8BwwFNgh6k",
        "colab_type": "code",
        "colab": {}
      },
      "source": [
        "X_train = tfidf.fit_transform(df.loc[train_index, 'statement'])\n",
        "X_val = tfidf.transform(df.loc[val_index, 'statement'])\n",
        "X_test = tfidf.transform(df.loc[test_index, 'statement'])"
      ],
      "execution_count": 0,
      "outputs": []
    },
    {
      "cell_type": "markdown",
      "metadata": {
        "id": "hy0WIcfkNjFm",
        "colab_type": "text"
      },
      "source": [
        "#### Multiclass classification"
      ]
    },
    {
      "cell_type": "code",
      "metadata": {
        "id": "h6H6q9JMNpYj",
        "colab_type": "code",
        "colab": {}
      },
      "source": [
        "lr = LogisticRegression(max_iter=500)"
      ],
      "execution_count": 0,
      "outputs": []
    },
    {
      "cell_type": "code",
      "metadata": {
        "id": "iGendFH5Nq84",
        "colab_type": "code",
        "colab": {
          "base_uri": "https://localhost:8080/",
          "height": 102
        },
        "outputId": "ffdcab55-ed28-4e5c-e3cf-4d083cd5ea44"
      },
      "source": [
        "lr.fit(X_train, y_train_multi)"
      ],
      "execution_count": 21,
      "outputs": [
        {
          "output_type": "execute_result",
          "data": {
            "text/plain": [
              "LogisticRegression(C=1.0, class_weight=None, dual=False, fit_intercept=True,\n",
              "                   intercept_scaling=1, l1_ratio=None, max_iter=500,\n",
              "                   multi_class='auto', n_jobs=None, penalty='l2',\n",
              "                   random_state=None, solver='lbfgs', tol=0.0001, verbose=0,\n",
              "                   warm_start=False)"
            ]
          },
          "metadata": {
            "tags": []
          },
          "execution_count": 21
        }
      ]
    },
    {
      "cell_type": "code",
      "metadata": {
        "id": "55C4E7b1NujO",
        "colab_type": "code",
        "colab": {
          "base_uri": "https://localhost:8080/",
          "height": 80
        },
        "outputId": "9340a478-c6d0-4081-f848-79887b13f732"
      },
      "source": [
        "get_metrics(y_test_multi, lr.predict(X_test), binary=False)"
      ],
      "execution_count": 22,
      "outputs": [
        {
          "output_type": "execute_result",
          "data": {
            "text/html": [
              "<div>\n",
              "<style scoped>\n",
              "    .dataframe tbody tr th:only-of-type {\n",
              "        vertical-align: middle;\n",
              "    }\n",
              "\n",
              "    .dataframe tbody tr th {\n",
              "        vertical-align: top;\n",
              "    }\n",
              "\n",
              "    .dataframe thead th {\n",
              "        text-align: right;\n",
              "    }\n",
              "</style>\n",
              "<table border=\"1\" class=\"dataframe\">\n",
              "  <thead>\n",
              "    <tr style=\"text-align: right;\">\n",
              "      <th></th>\n",
              "      <th>Accuracy</th>\n",
              "      <th>Precision</th>\n",
              "      <th>Recall</th>\n",
              "      <th>F1</th>\n",
              "    </tr>\n",
              "  </thead>\n",
              "  <tbody>\n",
              "    <tr>\n",
              "      <th>0</th>\n",
              "      <td>0.2612</td>\n",
              "      <td>0.3321</td>\n",
              "      <td>0.2305</td>\n",
              "      <td>0.2232</td>\n",
              "    </tr>\n",
              "  </tbody>\n",
              "</table>\n",
              "</div>"
            ],
            "text/plain": [
              "   Accuracy  Precision  Recall      F1\n",
              "0    0.2612     0.3321  0.2305  0.2232"
            ]
          },
          "metadata": {
            "tags": []
          },
          "execution_count": 22
        }
      ]
    },
    {
      "cell_type": "markdown",
      "metadata": {
        "id": "JKHuzkQkGWqs",
        "colab_type": "text"
      },
      "source": [
        "#### Binary Classification "
      ]
    },
    {
      "cell_type": "code",
      "metadata": {
        "id": "Vm97Cq-Wg5sh",
        "colab_type": "code",
        "colab": {}
      },
      "source": [
        "lr = LogisticRegression(C=2)"
      ],
      "execution_count": 0,
      "outputs": []
    },
    {
      "cell_type": "code",
      "metadata": {
        "id": "kik5n2Zgg0A0",
        "colab_type": "code",
        "colab": {
          "base_uri": "https://localhost:8080/",
          "height": 102
        },
        "outputId": "005ec5a1-7c34-4059-97d2-f0b5c42c0287"
      },
      "source": [
        "lr.fit(X_train, y_train_binary)"
      ],
      "execution_count": 24,
      "outputs": [
        {
          "output_type": "execute_result",
          "data": {
            "text/plain": [
              "LogisticRegression(C=2, class_weight=None, dual=False, fit_intercept=True,\n",
              "                   intercept_scaling=1, l1_ratio=None, max_iter=100,\n",
              "                   multi_class='auto', n_jobs=None, penalty='l2',\n",
              "                   random_state=None, solver='lbfgs', tol=0.0001, verbose=0,\n",
              "                   warm_start=False)"
            ]
          },
          "metadata": {
            "tags": []
          },
          "execution_count": 24
        }
      ]
    },
    {
      "cell_type": "code",
      "metadata": {
        "id": "fuUk3OHtHTBE",
        "colab_type": "code",
        "colab": {
          "base_uri": "https://localhost:8080/",
          "height": 80
        },
        "outputId": "406e1293-781e-4a9e-dc1c-70cd5ac5a90e"
      },
      "source": [
        "get_metrics(y_test_binary, lr.predict(X_test))"
      ],
      "execution_count": 25,
      "outputs": [
        {
          "output_type": "execute_result",
          "data": {
            "text/html": [
              "<div>\n",
              "<style scoped>\n",
              "    .dataframe tbody tr th:only-of-type {\n",
              "        vertical-align: middle;\n",
              "    }\n",
              "\n",
              "    .dataframe tbody tr th {\n",
              "        vertical-align: top;\n",
              "    }\n",
              "\n",
              "    .dataframe thead th {\n",
              "        text-align: right;\n",
              "    }\n",
              "</style>\n",
              "<table border=\"1\" class=\"dataframe\">\n",
              "  <thead>\n",
              "    <tr style=\"text-align: right;\">\n",
              "      <th></th>\n",
              "      <th>Accuracy</th>\n",
              "      <th>Precision</th>\n",
              "      <th>Recall</th>\n",
              "      <th>F1</th>\n",
              "    </tr>\n",
              "  </thead>\n",
              "  <tbody>\n",
              "    <tr>\n",
              "      <th>0</th>\n",
              "      <td>0.6267</td>\n",
              "      <td>0.6081</td>\n",
              "      <td>0.4069</td>\n",
              "      <td>0.4875</td>\n",
              "    </tr>\n",
              "  </tbody>\n",
              "</table>\n",
              "</div>"
            ],
            "text/plain": [
              "   Accuracy  Precision  Recall      F1\n",
              "0    0.6267     0.6081  0.4069  0.4875"
            ]
          },
          "metadata": {
            "tags": []
          },
          "execution_count": 25
        }
      ]
    },
    {
      "cell_type": "markdown",
      "metadata": {
        "id": "lGw6cYI2RclL",
        "colab_type": "text"
      },
      "source": [
        "## TF-IDF SVM"
      ]
    },
    {
      "cell_type": "code",
      "metadata": {
        "id": "qtxImcOiRgsW",
        "colab_type": "code",
        "colab": {}
      },
      "source": [
        "svm = SVC(kernel='linear')"
      ],
      "execution_count": 0,
      "outputs": []
    },
    {
      "cell_type": "code",
      "metadata": {
        "id": "bOOIkithRxW1",
        "colab_type": "code",
        "colab": {
          "base_uri": "https://localhost:8080/",
          "height": 85
        },
        "outputId": "e1840254-5136-41e4-a134-74d8347302fa"
      },
      "source": [
        "svm.fit(X_train, y_train_binary)"
      ],
      "execution_count": 27,
      "outputs": [
        {
          "output_type": "execute_result",
          "data": {
            "text/plain": [
              "SVC(C=1.0, break_ties=False, cache_size=200, class_weight=None, coef0=0.0,\n",
              "    decision_function_shape='ovr', degree=3, gamma='scale', kernel='linear',\n",
              "    max_iter=-1, probability=False, random_state=None, shrinking=True,\n",
              "    tol=0.001, verbose=False)"
            ]
          },
          "metadata": {
            "tags": []
          },
          "execution_count": 27
        }
      ]
    },
    {
      "cell_type": "code",
      "metadata": {
        "id": "OGSVH2N8R2et",
        "colab_type": "code",
        "colab": {
          "base_uri": "https://localhost:8080/",
          "height": 80
        },
        "outputId": "5c0db2e3-3398-4ecf-fb2b-9350ffe1a16d"
      },
      "source": [
        "get_metrics(y_test_binary, svm.predict(X_test))"
      ],
      "execution_count": 28,
      "outputs": [
        {
          "output_type": "execute_result",
          "data": {
            "text/html": [
              "<div>\n",
              "<style scoped>\n",
              "    .dataframe tbody tr th:only-of-type {\n",
              "        vertical-align: middle;\n",
              "    }\n",
              "\n",
              "    .dataframe tbody tr th {\n",
              "        vertical-align: top;\n",
              "    }\n",
              "\n",
              "    .dataframe thead th {\n",
              "        text-align: right;\n",
              "    }\n",
              "</style>\n",
              "<table border=\"1\" class=\"dataframe\">\n",
              "  <thead>\n",
              "    <tr style=\"text-align: right;\">\n",
              "      <th></th>\n",
              "      <th>Accuracy</th>\n",
              "      <th>Precision</th>\n",
              "      <th>Recall</th>\n",
              "      <th>F1</th>\n",
              "    </tr>\n",
              "  </thead>\n",
              "  <tbody>\n",
              "    <tr>\n",
              "      <th>0</th>\n",
              "      <td>0.6251</td>\n",
              "      <td>0.5995</td>\n",
              "      <td>0.425</td>\n",
              "      <td>0.4974</td>\n",
              "    </tr>\n",
              "  </tbody>\n",
              "</table>\n",
              "</div>"
            ],
            "text/plain": [
              "   Accuracy  Precision  Recall      F1\n",
              "0    0.6251     0.5995   0.425  0.4974"
            ]
          },
          "metadata": {
            "tags": []
          },
          "execution_count": 28
        }
      ]
    },
    {
      "cell_type": "markdown",
      "metadata": {
        "id": "_vUfJVJPBxjG",
        "colab_type": "text"
      },
      "source": [
        "# GoogleNews Embeddings"
      ]
    },
    {
      "cell_type": "code",
      "metadata": {
        "id": "SLu_f-OvZL8b",
        "colab_type": "code",
        "colab": {
          "base_uri": "https://localhost:8080/",
          "height": 204
        },
        "outputId": "c1391894-0e62-4286-8cf2-f7e16c773837"
      },
      "source": [
        "!wget https://s3.amazonaws.com/dl4j-distribution/GoogleNews-vectors-negative300.bin.gz"
      ],
      "execution_count": 12,
      "outputs": [
        {
          "output_type": "stream",
          "text": [
            "--2020-05-31 20:51:45--  https://s3.amazonaws.com/dl4j-distribution/GoogleNews-vectors-negative300.bin.gz\n",
            "Resolving s3.amazonaws.com (s3.amazonaws.com)... 52.217.14.158\n",
            "Connecting to s3.amazonaws.com (s3.amazonaws.com)|52.217.14.158|:443... connected.\n",
            "HTTP request sent, awaiting response... 200 OK\n",
            "Length: 1647046227 (1.5G) [application/x-gzip]\n",
            "Saving to: ‘GoogleNews-vectors-negative300.bin.gz’\n",
            "\n",
            "GoogleNews-vectors- 100%[===================>]   1.53G   109MB/s    in 17s     \n",
            "\n",
            "2020-05-31 20:52:02 (91.5 MB/s) - ‘GoogleNews-vectors-negative300.bin.gz’ saved [1647046227/1647046227]\n",
            "\n"
          ],
          "name": "stdout"
        }
      ]
    },
    {
      "cell_type": "code",
      "metadata": {
        "id": "Hpm8-NWvYB8y",
        "colab_type": "code",
        "colab": {}
      },
      "source": [
        "embeddings_model = gensim.models.KeyedVectors.load_word2vec_format('GoogleNews-vectors-negative300.bin.gz', binary=True)\n",
        "vocab = embeddings_model.vocab\n",
        "embedding = embeddings_model.syn0"
      ],
      "execution_count": 0,
      "outputs": []
    },
    {
      "cell_type": "code",
      "metadata": {
        "id": "BqE3vHJIc3EV",
        "colab_type": "code",
        "colab": {}
      },
      "source": [
        "def text_embed_info(feature):\n",
        "  vocabulary = {}\n",
        "  for word in ' '.join(df[feature].values).split():\n",
        "    if word in vocabulary.keys():\n",
        "      vocabulary[word] += 1\n",
        "    else:\n",
        "      vocabulary[word] = 1\n",
        "  success = 0\n",
        "  word_cnt = 0\n",
        "  unknown_words = []\n",
        "  for word in vocabulary.keys():\n",
        "    if word in vocab.keys():\n",
        "      success += 1\n",
        "      word_cnt += vocabulary[word]\n",
        "    else:\n",
        "      unknown_words.append(word)\n",
        "\n",
        "  print(f\"{feature} | Found embeddings for {success*100//len(vocabulary.keys())}% of vocabulary\")\n",
        "  print(f\"{feature} | Found embeddings for {word_cnt*100//len(' '.join(df[feature].values).split())}% of all text\")\n",
        "  print()"
      ],
      "execution_count": 0,
      "outputs": []
    },
    {
      "cell_type": "code",
      "metadata": {
        "id": "lpC4Lpa0E2QN",
        "colab_type": "code",
        "colab": {
          "base_uri": "https://localhost:8080/",
          "height": 272
        },
        "outputId": "5b5c2eb7-f4c8-4ce2-d140-ffe3d0e4b644"
      },
      "source": [
        "text_embed_info('statement')\n",
        "text_embed_info('subject')\n",
        "text_embed_info('speaker_job')\n",
        "text_embed_info('context')\n",
        "text_embed_info('justification')"
      ],
      "execution_count": 15,
      "outputs": [
        {
          "output_type": "stream",
          "text": [
            "statement | Found embeddings for 88% of vocabulary\n",
            "statement | Found embeddings for 90% of all text\n",
            "\n",
            "subject | Found embeddings for 98% of vocabulary\n",
            "subject | Found embeddings for 98% of all text\n",
            "\n",
            "speaker_job | Found embeddings for 92% of vocabulary\n",
            "speaker_job | Found embeddings for 82% of all text\n",
            "\n",
            "context | Found embeddings for 86% of vocabulary\n",
            "context | Found embeddings for 81% of all text\n",
            "\n",
            "justification | Found embeddings for 80% of vocabulary\n",
            "justification | Found embeddings for 89% of all text\n",
            "\n"
          ],
          "name": "stdout"
        }
      ]
    },
    {
      "cell_type": "markdown",
      "metadata": {
        "id": "jrsln_RfwZOU",
        "colab_type": "text"
      },
      "source": [
        "# Embeddings preprocessing"
      ]
    },
    {
      "cell_type": "code",
      "metadata": {
        "id": "IFO8DPe_wk7R",
        "colab_type": "code",
        "colab": {}
      },
      "source": [
        "# Вот полная функция для фиксации сида:\n",
        "# def seed_torch(seed=1029):\n",
        "# random.seed(seed)\n",
        "# os.environ['PYTHONHASHSEED'] = str(seed)\n",
        "# np.random.seed(seed)\n",
        "# torch.manual_seed(seed)\n",
        "# torch.cuda.manual_seed(seed)\n",
        "# torch.cuda.manual_seed_all(seed) # if you are using multi-GPU.\n",
        "# torch.backends.cudnn.benchmark = False\n",
        "# torch.backends.cudnn.deterministic = True"
      ],
      "execution_count": 0,
      "outputs": []
    },
    {
      "cell_type": "code",
      "metadata": {
        "id": "xITIRMiOzFWi",
        "colab_type": "code",
        "colab": {}
      },
      "source": [
        "EMBED_SIZE = 300 \n",
        "BATCH_SIZE = 256"
      ],
      "execution_count": 0,
      "outputs": []
    },
    {
      "cell_type": "code",
      "metadata": {
        "id": "BiSTD-kkYX3T",
        "colab_type": "code",
        "colab": {}
      },
      "source": [
        "device = torch.device(\"cuda\" if torch.cuda.is_available() else \"cpu\")"
      ],
      "execution_count": 0,
      "outputs": []
    },
    {
      "cell_type": "code",
      "metadata": {
        "id": "uPcEdhT7bIYL",
        "colab_type": "code",
        "colab": {}
      },
      "source": [
        "STATEMENT = data.Field(sequential=True)\n",
        "CONTEXT = data.Field(sequential=True)\n",
        "SUBJECT = data.Field(sequential=True)\n",
        "SPEAKER_JOB = data.Field(sequential=True)\n",
        "JUSTIFICATION = data.Field(sequential=True)\n",
        "\n",
        "SPEAKER = data.Field(sequential=False)\n",
        "STATE = data.Field(sequential=False)\n",
        "PARTY = data.Field(sequential=False)\n",
        "\n",
        "TARGET_BINAR = data.Field(sequential=False, use_vocab=False, dtype=torch.int64)\n",
        "TARGET_MULTI = data.Field(sequential=False, use_vocab=False, dtype=torch.int64)\n",
        "\n",
        "data_fields = [('label', TARGET_MULTI),\n",
        "               ('is_fake', TARGET_BINAR),\n",
        "               ('statement', STATEMENT),\n",
        "               ('subject', SUBJECT),\n",
        "               ('speaker', SPEAKER),\n",
        "               ('speaker_job', SPEAKER_JOB),\n",
        "               ('state', STATE),\n",
        "               ('party', PARTY),\n",
        "               ('context', CONTEXT),\n",
        "               ('justification', JUSTIFICATION)\n",
        "               ]"
      ],
      "execution_count": 0,
      "outputs": []
    },
    {
      "cell_type": "code",
      "metadata": {
        "id": "jowxLFywkLV5",
        "colab_type": "code",
        "colab": {}
      },
      "source": [
        "train = data.TabularDataset(path=PATH+'train_data_clean.csv', format='csv', fields=data_fields, skip_header=True)\n",
        "val = data.TabularDataset(path=PATH+'val_data_clean.csv', format='csv', fields=data_fields, skip_header=True)\n",
        "test = data.TabularDataset(path=PATH+'test_data_clean.csv', format='csv', fields=data_fields, skip_header=True)"
      ],
      "execution_count": 0,
      "outputs": []
    },
    {
      "cell_type": "code",
      "metadata": {
        "id": "N8rSFuWdaM2v",
        "colab_type": "code",
        "colab": {}
      },
      "source": [
        "STATEMENT.build_vocab(train)\n",
        "CONTEXT.build_vocab(train)\n",
        "SUBJECT.build_vocab(train)\n",
        "SPEAKER_JOB.build_vocab(train)\n",
        "JUSTIFICATION.build_vocab(train)\n",
        "SPEAKER.build_vocab(train)\n",
        "STATE.build_vocab(train)\n",
        "PARTY.build_vocab(train)"
      ],
      "execution_count": 0,
      "outputs": []
    },
    {
      "cell_type": "code",
      "metadata": {
        "id": "1_TbXrCOGx2P",
        "colab_type": "code",
        "colab": {
          "base_uri": "https://localhost:8080/",
          "height": 153
        },
        "outputId": "1d9657b8-6f7e-4b1b-a4a2-649c2d7cfcff"
      },
      "source": [
        "statement_vocab_size = len(STATEMENT.vocab.itos)\n",
        "context_vocab_size = len(CONTEXT.vocab.itos)\n",
        "subject_vocab_size = len(SUBJECT.vocab.itos)\n",
        "speaker_vocab_size = len(SPEAKER.vocab.itos)\n",
        "speaker_job_vocab_size = len(SPEAKER_JOB.vocab.itos)\n",
        "state_vocab_size = len(STATE.vocab.itos)\n",
        "party_vocab_size = len(PARTY.vocab.itos)\n",
        "justification_vocab_size = len(JUSTIFICATION.vocab.itos)\n",
        "\n",
        "print(f\"Statement | Vocabulary size {statement_vocab_size}\")\n",
        "print(f\"Context | Vocabulary size {context_vocab_size}\")\n",
        "print(f\"Subject | Vocabulary size {subject_vocab_size}\")\n",
        "print(f\"Speaker | Vocabulary size {speaker_vocab_size}\")\n",
        "print(f\"Speaker_job | Vocabulary size {speaker_job_vocab_size}\")\n",
        "print(f\"State | Vocabulary size {state_vocab_size}\")\n",
        "print(f\"Party | Vocabulary size {party_vocab_size}\")\n",
        "print(f\"Justification | Vocabulary size {justification_vocab_size}\")"
      ],
      "execution_count": 21,
      "outputs": [
        {
          "output_type": "stream",
          "text": [
            "Statement | Vocabulary size 11592\n",
            "Context | Vocabulary size 2153\n",
            "Subject | Vocabulary size 178\n",
            "Speaker | Vocabulary size 162\n",
            "Speaker_job | Vocabulary size 1102\n",
            "State | Vocabulary size 60\n",
            "Party | Vocabulary size 24\n",
            "Justification | Vocabulary size 22266\n"
          ],
          "name": "stdout"
        }
      ]
    },
    {
      "cell_type": "code",
      "metadata": {
        "id": "t3nXXsZ1kVBu",
        "colab_type": "code",
        "colab": {
          "base_uri": "https://localhost:8080/",
          "height": 34
        },
        "outputId": "a5cdd960-0ba8-40ac-9bcb-c9ddfb46f623"
      },
      "source": [
        "len(STATEMENT.vocab)"
      ],
      "execution_count": 34,
      "outputs": [
        {
          "output_type": "execute_result",
          "data": {
            "text/plain": [
              "11592"
            ]
          },
          "metadata": {
            "tags": []
          },
          "execution_count": 34
        }
      ]
    },
    {
      "cell_type": "code",
      "metadata": {
        "id": "shaSow4l5Bti",
        "colab_type": "code",
        "colab": {}
      },
      "source": [
        "def get_embedding_matrix(feature):\n",
        "  emb_mean, emb_std = embedding.mean(), embedding.std()\n",
        "\n",
        "  word_index = dict(feature.vocab.stoi).keys()\n",
        "  unknown_words = set()\n",
        "  nb_words = len(word_index)\n",
        "  embedding_matrix = np.random.normal(emb_mean, emb_std, (nb_words, EMBED_SIZE))\n",
        "  for word in word_index:\n",
        "        index = feature.vocab[word]\n",
        "        if index != 0:\n",
        "          try:\n",
        "            embedding_vector = embeddings_model[word]\n",
        "            embedding_matrix[index] = embedding_vector\n",
        "          except KeyError:\n",
        "            unknown_words.add(word)\n",
        "        else:\n",
        "          continue\n",
        "\n",
        "  embedding_matrix = torch.from_numpy(embedding_matrix)\n",
        "  print(f\"Unknown words {len(unknown_words)}\")\n",
        "\n",
        "  return embedding_matrix, unknown_words"
      ],
      "execution_count": 0,
      "outputs": []
    },
    {
      "cell_type": "code",
      "metadata": {
        "id": "SK7BtZffHn-R",
        "colab_type": "code",
        "colab": {}
      },
      "source": [
        "def get_one_hot_matrix(feature):\n",
        "  embedding_matrix = torch.from_numpy(np.eye(len(feature.vocab)))\n",
        "  return embedding_matrix"
      ],
      "execution_count": 0,
      "outputs": []
    },
    {
      "cell_type": "code",
      "metadata": {
        "id": "mLjinwQaGM6I",
        "colab_type": "code",
        "colab": {
          "base_uri": "https://localhost:8080/",
          "height": 34
        },
        "outputId": "11a76d28-9658-45c2-dbf3-d093d60524c9"
      },
      "source": [
        "statement_embedding_matrix, statement_unknown_words = get_embedding_matrix(STATEMENT)"
      ],
      "execution_count": 24,
      "outputs": [
        {
          "output_type": "stream",
          "text": [
            "Unknown words 1243\n"
          ],
          "name": "stdout"
        }
      ]
    },
    {
      "cell_type": "code",
      "metadata": {
        "id": "gruZeA4gGWdf",
        "colab_type": "code",
        "colab": {
          "base_uri": "https://localhost:8080/",
          "height": 34
        },
        "outputId": "82321827-fb91-4511-ebea-eab061cc2e08"
      },
      "source": [
        "context_embedding_matrix, context_unknown_words = get_embedding_matrix(CONTEXT)"
      ],
      "execution_count": 25,
      "outputs": [
        {
          "output_type": "stream",
          "text": [
            "Unknown words 280\n"
          ],
          "name": "stdout"
        }
      ]
    },
    {
      "cell_type": "code",
      "metadata": {
        "id": "FWpMZsykGuKF",
        "colab_type": "code",
        "colab": {
          "base_uri": "https://localhost:8080/",
          "height": 34
        },
        "outputId": "0dce5908-9883-4fb8-dbe3-76ce84e35703"
      },
      "source": [
        "subject_embedding_matrix, subject_unknown_words = get_embedding_matrix(SUBJECT)"
      ],
      "execution_count": 26,
      "outputs": [
        {
          "output_type": "stream",
          "text": [
            "Unknown words 3\n"
          ],
          "name": "stdout"
        }
      ]
    },
    {
      "cell_type": "code",
      "metadata": {
        "id": "KBM46Dl_G2oz",
        "colab_type": "code",
        "colab": {
          "base_uri": "https://localhost:8080/",
          "height": 34
        },
        "outputId": "8cea9a2c-9527-4eed-8a4e-13b73901530d"
      },
      "source": [
        "speaker_job_embedding_matrix, speaker_job_unknown_words = get_embedding_matrix(SPEAKER_JOB)"
      ],
      "execution_count": 27,
      "outputs": [
        {
          "output_type": "stream",
          "text": [
            "Unknown words 82\n"
          ],
          "name": "stdout"
        }
      ]
    },
    {
      "cell_type": "code",
      "metadata": {
        "id": "aEvNsJiZG-o0",
        "colab_type": "code",
        "colab": {
          "base_uri": "https://localhost:8080/",
          "height": 34
        },
        "outputId": "c9154379-9102-42a6-84a8-a884a02b4d72"
      },
      "source": [
        "justification_embedding_matrix, justification_unknown_words = get_embedding_matrix(JUSTIFICATION)"
      ],
      "execution_count": 28,
      "outputs": [
        {
          "output_type": "stream",
          "text": [
            "Unknown words 4024\n"
          ],
          "name": "stdout"
        }
      ]
    },
    {
      "cell_type": "code",
      "metadata": {
        "id": "Cw-BBoDCKVf_",
        "colab_type": "code",
        "colab": {}
      },
      "source": [
        "speaker_embedding_matrix = get_one_hot_matrix(SPEAKER)\n",
        "state_embedding_matrix = get_one_hot_matrix(STATE)\n",
        "party_embedding_matrix = get_one_hot_matrix(PARTY)"
      ],
      "execution_count": 0,
      "outputs": []
    },
    {
      "cell_type": "code",
      "metadata": {
        "id": "Ec6gK0Dvw99I",
        "colab_type": "code",
        "colab": {}
      },
      "source": [
        "STATEMENT.vocab.set_vectors(STATEMENT.vocab.stoi, statement_embedding_matrix, EMBED_SIZE)\n",
        "CONTEXT.vocab.set_vectors(CONTEXT.vocab.stoi, context_embedding_matrix, EMBED_SIZE)\n",
        "SUBJECT.vocab.set_vectors(SUBJECT.vocab.stoi, subject_embedding_matrix, EMBED_SIZE)\n",
        "SPEAKER_JOB.vocab.set_vectors(SPEAKER_JOB.vocab.stoi, speaker_job_embedding_matrix, EMBED_SIZE)\n",
        "JUSTIFICATION.vocab.set_vectors(JUSTIFICATION.vocab.stoi, justification_embedding_matrix, EMBED_SIZE)"
      ],
      "execution_count": 0,
      "outputs": []
    },
    {
      "cell_type": "code",
      "metadata": {
        "id": "Pg3ukaK6KUCj",
        "colab_type": "code",
        "colab": {}
      },
      "source": [
        "SPEAKER.vocab.set_vectors(SPEAKER.vocab.stoi, speaker_embedding_matrix, speaker_vocab_size)\n",
        "STATE.vocab.set_vectors(STATE.vocab.stoi, state_embedding_matrix, state_vocab_size)\n",
        "PARTY.vocab.set_vectors(PARTY.vocab.stoi, party_embedding_matrix, party_vocab_size)"
      ],
      "execution_count": 0,
      "outputs": []
    },
    {
      "cell_type": "code",
      "metadata": {
        "id": "vf1BWTQjqcM_",
        "colab_type": "code",
        "colab": {}
      },
      "source": [
        "train_iter = data.BucketIterator(train,\n",
        "                                batch_size=BATCH_SIZE,\n",
        "                                sort_key= lambda x: len(x.statement),\n",
        "                                repeat=False,\n",
        "                                shuffle=True,\n",
        "                                device=device)\n",
        "\n",
        "val_iter = data.BucketIterator(val,\n",
        "                                batch_size=BATCH_SIZE,\n",
        "                                sort_key= lambda x: len(x.statement),\n",
        "                                repeat=False,\n",
        "                                sort = True,\n",
        "                                device=device)"
      ],
      "execution_count": 0,
      "outputs": []
    },
    {
      "cell_type": "markdown",
      "metadata": {
        "id": "Q-1uL28Vzywt",
        "colab_type": "text"
      },
      "source": [
        "## Bi-LSTM (Statement)"
      ]
    },
    {
      "cell_type": "code",
      "metadata": {
        "id": "2125oWebGDyw",
        "colab_type": "code",
        "colab": {}
      },
      "source": [
        "output_size = 2\n",
        "hidden_size = 300"
      ],
      "execution_count": 0,
      "outputs": []
    },
    {
      "cell_type": "code",
      "metadata": {
        "id": "Y2tJ0b_sFeFp",
        "colab_type": "code",
        "colab": {}
      },
      "source": [
        "class BILSTMClassifier(nn.Module):\n",
        "    def __init__(self, batch_size, output_size, hidden_size, embedding_length):\n",
        "        super(BILSTMClassifier, self).__init__()\n",
        "\n",
        "        \"\"\"\n",
        "        Arguments\n",
        "        ---------\n",
        "        batch_size : Size of the batch which is same as the batch_size of the data returned by the TorchText BucketIterator\n",
        "        output_size : 3 = (normal, small, big)\n",
        "        hidden_sie : Size of the hidden_state of the LSTM\n",
        "        embedding_length : Embeddding dimension of FastText word embeddings\n",
        "        \n",
        "        \"\"\"\n",
        "\n",
        "        self.batch_size = batch_size\n",
        "        self.output_size = output_size\n",
        "        self.hidden_size = hidden_size\n",
        "        self.embedding_length = embedding_length\n",
        "        self.embedding_length_speaker = len(SPEAKER.vocab)\n",
        "        self.embedding_length_state = len(STATE.vocab)\n",
        "        self.embedding_length_party = len(PARTY.vocab)\n",
        "\n",
        "        self.embedding_statement = nn.Embedding(len(STATEMENT.vocab), embedding_length, padding_idx=1)\n",
        "        self.embedding_statement.weight = nn.Parameter(STATEMENT.vocab.vectors, requires_grad=True)\n",
        "\n",
        "        self.embedding_context = nn.Embedding(len(CONTEXT.vocab), embedding_length, padding_idx=1)\n",
        "        self.embedding_context.weight = nn.Parameter(CONTEXT.vocab.vectors, requires_grad=True)\n",
        "\n",
        "        self.embedding_subject = nn.Embedding(len(SUBJECT.vocab), embedding_length, padding_idx=1)\n",
        "        self.embedding_subject.weight = nn.Parameter(SUBJECT.vocab.vectors, requires_grad=True)\n",
        "\n",
        "        self.embedding_speaker_job = nn.Embedding(len(SPEAKER_JOB.vocab), embedding_length, padding_idx=1)\n",
        "        self.embedding_speaker_job.weight = nn.Parameter(SPEAKER_JOB.vocab.vectors, requires_grad=True)\n",
        "\n",
        "        self.embedding_justification = nn.Embedding(len(JUSTIFICATION.vocab), embedding_length, padding_idx=1)\n",
        "        self.embedding_justification.weight = nn.Parameter(JUSTIFICATION.vocab.vectors, requires_grad=True)\n",
        "\n",
        "        self.embedding_speaker = nn.Embedding(len(SPEAKER.vocab), len(SPEAKER.vocab), padding_idx=1)\n",
        "        self.embedding_speaker.weight = nn.Parameter(SPEAKER.vocab.vectors, requires_grad=False)\n",
        "\n",
        "        self.embedding_state = nn.Embedding(len(STATE.vocab), len(STATE.vocab), padding_idx=1)\n",
        "        self.embedding_state.weight = nn.Parameter(STATE.vocab.vectors, requires_grad=False)\n",
        "\n",
        "        self.embedding_party = nn.Embedding(len(PARTY.vocab), len(PARTY.vocab), padding_idx=1)\n",
        "        self.embedding_party.weight = nn.Parameter(PARTY.vocab.vectors, requires_grad=False)\n",
        "\n",
        "\n",
        "\n",
        "        self.lstm_statement = nn.LSTM(embedding_length, hidden_size, bidirectional=True, num_layers=1)\n",
        "        self.bn1 = nn.BatchNorm1d(hidden_size*2)\n",
        "        self.relu1 = nn.ReLU()\n",
        "\n",
        "        self.lstm_context = nn.LSTM(embedding_length, hidden_size, bidirectional=True, num_layers=1)\n",
        "        self.bn2 = nn.BatchNorm1d(hidden_size*2)\n",
        "        self.relu2 = nn.ReLU()\n",
        "\n",
        "        self.lstm_subject = nn.LSTM(embedding_length, hidden_size, bidirectional=True, num_layers=1)\n",
        "        self.bn3 = nn.BatchNorm1d(hidden_size*2)\n",
        "        self.relu3 = nn.ReLU()\n",
        "\n",
        "        self.lstm_speaker_job = nn.LSTM(embedding_length, hidden_size, bidirectional=True, num_layers=1)\n",
        "        self.bn4 = nn.BatchNorm1d(hidden_size*2)\n",
        "        self.relu4 = nn.ReLU()\n",
        "\n",
        "        self.lstm_justification = nn.LSTM(embedding_length, hidden_size, bidirectional=True, num_layers=1)\n",
        "        self.bn5 = nn.BatchNorm1d(hidden_size*2)\n",
        "        self.relu5 = nn.ReLU()\n",
        "\n",
        "        self.fnn_categorical = nn.Linear(self.embedding_length_speaker +\n",
        "                                         self.embedding_length_party +\n",
        "                                         self.embedding_length_state, 512)\n",
        "        self.bn6 = nn.BatchNorm1d(512)\n",
        "        self.relu6 = nn.ReLU()\n",
        "        \n",
        "\n",
        "        self.fnn_lstm = nn.Linear(hidden_size*2*5, 2048)\n",
        "        self.bn7 = nn.BatchNorm1d(2048)\n",
        "        self.relu7 = nn.ReLU()\n",
        "\n",
        "        self.label = nn.Linear(2560, output_size)\n",
        "\n",
        "    def forward(self, statement, subject, speaker, speaker_job, state, party, context, justification, batch_size=None):\n",
        "        statement_embed = self.embedding_statement(statement)\n",
        "        context_embed = self.embedding_context(context)\n",
        "        subject_embed = self.embedding_subject(subject)\n",
        "        speaker_job_embed = self.embedding_speaker_job(speaker_job)\n",
        "        justification_embed = self.embedding_justification(justification)\n",
        "        state_embed = self.embedding_state(state)\n",
        "        speaker_embed = self.embedding_speaker(speaker)\n",
        "        party_embed = self.embedding_party(party)\n",
        "\n",
        "        _, (statement_final_hidden_state, _) = self.lstm_statement(statement_embed)\n",
        "        _, (context_final_hidden_state, _) = self.lstm_context(context_embed)\n",
        "        _, (subject_final_hidden_state, _) = self.lstm_subject(subject_embed)\n",
        "        _, (speaker_job_final_hidden_state, _) = self.lstm_speaker_job(speaker_job_embed)\n",
        "        _, (justification_final_hidden_state, _) = self.lstm_justification(justification_embed)\n",
        "\n",
        "        statement_final_hidden_state = torch.cat([statement_final_hidden_state[i,:,:] for i in range(int(statement_final_hidden_state.shape[0]))], dim=1)\n",
        "        context_final_hidden_state = torch.cat([context_final_hidden_state[i,:,:] for i in range(int(context_final_hidden_state.shape[0]))], dim=1)\n",
        "        subject_final_hidden_state = torch.cat([subject_final_hidden_state[i,:,:] for i in range(int(subject_final_hidden_state.shape[0]))], dim=1)\n",
        "        speaker_job_final_hidden_state = torch.cat([speaker_job_final_hidden_state[i,:,:] for i in range(int(speaker_job_final_hidden_state.shape[0]))], dim=1)\n",
        "        justification_final_hidden_state = torch.cat([justification_final_hidden_state[i,:,:] for i in range(int(justification_final_hidden_state.shape[0]))], dim=1)\n",
        "\n",
        "        statement_final_hidden_state = self.relu1(self.bn1(statement_final_hidden_state))\n",
        "        context_final_hidden_state = self.relu2(self.bn2(context_final_hidden_state))\n",
        "        subject_final_hidden_state = self.relu3(self.bn3(subject_final_hidden_state))\n",
        "        speaker_job_final_hidden_state = self.relu4(self.bn4(speaker_job_final_hidden_state))\n",
        "        justification_final_hidden_state = self.relu5(self.bn5(justification_final_hidden_state))\n",
        "\n",
        "        fnn_categorical = self.relu6(self.bn6(self.fnn_categorical(torch.cat([state_embed, speaker_embed, party_embed], dim=1))))\n",
        "\n",
        "        fnn_lstm = self.relu7(self.bn7(self.fnn_lstm(torch.cat([statement_final_hidden_state, context_final_hidden_state,\n",
        "                                            subject_final_hidden_state, speaker_job_final_hidden_state,\n",
        "                                            justification_final_hidden_state], dim=1))))\n",
        "        \n",
        "\n",
        "        final_output = self.label(torch.cat([fnn_categorical, fnn_lstm], dim=1))\n",
        "        return final_output"
      ],
      "execution_count": 0,
      "outputs": []
    },
    {
      "cell_type": "code",
      "metadata": {
        "id": "TmM3oZLOFvWO",
        "colab_type": "code",
        "colab": {}
      },
      "source": [
        "lstm_model = BILSTMClassifier(BATCH_SIZE, output_size, hidden_size, EMBED_SIZE).to(device)"
      ],
      "execution_count": 0,
      "outputs": []
    },
    {
      "cell_type": "code",
      "metadata": {
        "id": "209HyrOwGpX1",
        "colab_type": "code",
        "colab": {}
      },
      "source": [
        "import torch.optim as optim"
      ],
      "execution_count": 0,
      "outputs": []
    },
    {
      "cell_type": "code",
      "metadata": {
        "id": "3X5fGzLPG12L",
        "colab_type": "code",
        "colab": {}
      },
      "source": [
        "optimizer = optim.Adam(lstm_model.parameters())\n",
        "loss_func = nn.CrossEntropyLoss().to(device)"
      ],
      "execution_count": 0,
      "outputs": []
    },
    {
      "cell_type": "code",
      "metadata": {
        "id": "MDAlUGYdJVZl",
        "colab_type": "code",
        "colab": {
          "base_uri": "https://localhost:8080/",
          "height": 599
        },
        "outputId": "e5094556-c6c1-4942-ef45-4fc05ac4a9c9"
      },
      "source": [
        "for epoch in range(5): \n",
        "\n",
        "    running_loss = 0\n",
        "    train_acc = 0\n",
        "\n",
        "    for el in train_iter:\n",
        "        labels = el.is_fake.to(device)\n",
        "        input_statement = el.statement.to(device)\n",
        "        input_subject = el.subject.to(device)\n",
        "        input_speaker = el.speaker.to(device)\n",
        "        input_speaker_job = el.speaker_job.to(device)\n",
        "        input_state = el.state.to(device)\n",
        "        input_party = el.party.to(device)\n",
        "        input_context = el.context.to(device)\n",
        "        input_justification = el.justification.to(device)\n",
        "      \n",
        "        optimizer.zero_grad()\n",
        "\n",
        "        outputs = lstm_model(input_statement, input_subject, input_speaker, input_speaker_job, input_state, input_party, input_context, input_justification)\n",
        "        loss = loss_func(outputs, labels)\n",
        "        loss.backward()\n",
        "        optimizer.step()\n",
        "\n",
        "        train_acc += (outputs.argmax(1) == labels).sum().item()\n",
        "        running_loss += loss.item()\n",
        "    \n",
        "    val_loss = 0\n",
        "    val_acc = 0\n",
        "\n",
        "    for el in val_iter:\n",
        "      labels = el.is_fake.to(device)\n",
        "      input_statement = el.statement.to(device)\n",
        "      input_subject = el.subject.to(device)\n",
        "      input_speaker = el.speaker.to(device)\n",
        "      input_speaker_job = el.speaker_job.to(device)\n",
        "      input_state = el.state.to(device)\n",
        "      input_party = el.party.to(device)\n",
        "      input_context = el.context.to(device)\n",
        "      input_justification = el.justification.to(device)\n",
        "\n",
        "      outputs = lstm_model(input_statement, input_subject, input_speaker, input_speaker_job, input_state, input_party, input_context, input_justification)\n",
        "      loss = loss_func(outputs, labels)\n",
        "      val_acc += (outputs.argmax(1) == labels).sum().item()\n",
        "      val_loss += loss.item()\n",
        "\n",
        "    train_loss = running_loss / (len(train) / BATCH_SIZE)\n",
        "    train_acc = train_acc / len(train)\n",
        "    val_loss = val_loss / (len(val) / BATCH_SIZE)\n",
        "    val_acc = val_acc / len(val)\n",
        "\n",
        "    print(f'Epoch: {epoch + 1}')\n",
        "    print(f'\\tLoss: {train_loss:.4f}(train)\\t|\\tAcc: {train_acc * 100:.1f}%(train)')\n",
        "    print(f'\\tLoss: {val_loss:.4f}(valid)\\t|\\tAcc: {val_acc * 100:.1f}%(valid)')\n",
        "\n",
        "\n",
        "print('Finished Training')"
      ],
      "execution_count": 71,
      "outputs": [
        {
          "output_type": "stream",
          "text": [
            "Epoch: 1\n",
            "\tLoss: 0.7689(train)\t|\tAcc: 59.7%(train)\n",
            "\tLoss: 0.7378(valid)\t|\tAcc: 61.8%(valid)\n",
            "Epoch: 2\n",
            "\tLoss: 0.5807(train)\t|\tAcc: 69.0%(train)\n",
            "\tLoss: 0.8845(valid)\t|\tAcc: 62.6%(valid)\n",
            "Epoch: 3\n",
            "\tLoss: 0.4437(train)\t|\tAcc: 79.9%(train)\n",
            "\tLoss: 1.0008(valid)\t|\tAcc: 63.2%(valid)\n",
            "Epoch: 4\n",
            "\tLoss: 0.2346(train)\t|\tAcc: 90.8%(train)\n",
            "\tLoss: 1.8694(valid)\t|\tAcc: 58.2%(valid)\n"
          ],
          "name": "stdout"
        },
        {
          "output_type": "error",
          "ename": "KeyboardInterrupt",
          "evalue": "ignored",
          "traceback": [
            "\u001b[0;31m---------------------------------------------------------------------------\u001b[0m",
            "\u001b[0;31mKeyboardInterrupt\u001b[0m                         Traceback (most recent call last)",
            "\u001b[0;32m<ipython-input-71-7d218e05b597>\u001b[0m in \u001b[0;36m<module>\u001b[0;34m()\u001b[0m\n\u001b[1;32m     19\u001b[0m         \u001b[0moutputs\u001b[0m \u001b[0;34m=\u001b[0m \u001b[0mlstm_model\u001b[0m\u001b[0;34m(\u001b[0m\u001b[0minput_statement\u001b[0m\u001b[0;34m,\u001b[0m \u001b[0minput_subject\u001b[0m\u001b[0;34m,\u001b[0m \u001b[0minput_speaker\u001b[0m\u001b[0;34m,\u001b[0m \u001b[0minput_speaker_job\u001b[0m\u001b[0;34m,\u001b[0m \u001b[0minput_state\u001b[0m\u001b[0;34m,\u001b[0m \u001b[0minput_party\u001b[0m\u001b[0;34m,\u001b[0m \u001b[0minput_context\u001b[0m\u001b[0;34m,\u001b[0m \u001b[0minput_justification\u001b[0m\u001b[0;34m)\u001b[0m\u001b[0;34m\u001b[0m\u001b[0;34m\u001b[0m\u001b[0m\n\u001b[1;32m     20\u001b[0m         \u001b[0mloss\u001b[0m \u001b[0;34m=\u001b[0m \u001b[0mloss_func\u001b[0m\u001b[0;34m(\u001b[0m\u001b[0moutputs\u001b[0m\u001b[0;34m,\u001b[0m \u001b[0mlabels\u001b[0m\u001b[0;34m)\u001b[0m\u001b[0;34m\u001b[0m\u001b[0;34m\u001b[0m\u001b[0m\n\u001b[0;32m---> 21\u001b[0;31m         \u001b[0mloss\u001b[0m\u001b[0;34m.\u001b[0m\u001b[0mbackward\u001b[0m\u001b[0;34m(\u001b[0m\u001b[0;34m)\u001b[0m\u001b[0;34m\u001b[0m\u001b[0;34m\u001b[0m\u001b[0m\n\u001b[0m\u001b[1;32m     22\u001b[0m         \u001b[0moptimizer\u001b[0m\u001b[0;34m.\u001b[0m\u001b[0mstep\u001b[0m\u001b[0;34m(\u001b[0m\u001b[0;34m)\u001b[0m\u001b[0;34m\u001b[0m\u001b[0;34m\u001b[0m\u001b[0m\n\u001b[1;32m     23\u001b[0m \u001b[0;34m\u001b[0m\u001b[0m\n",
            "\u001b[0;32m/usr/local/lib/python3.6/dist-packages/torch/tensor.py\u001b[0m in \u001b[0;36mbackward\u001b[0;34m(self, gradient, retain_graph, create_graph)\u001b[0m\n\u001b[1;32m    196\u001b[0m                 \u001b[0mproducts\u001b[0m\u001b[0;34m.\u001b[0m \u001b[0mDefaults\u001b[0m \u001b[0mto\u001b[0m\u001b[0;31m \u001b[0m\u001b[0;31m`\u001b[0m\u001b[0;31m`\u001b[0m\u001b[0;32mFalse\u001b[0m\u001b[0;31m`\u001b[0m\u001b[0;31m`\u001b[0m\u001b[0;34m.\u001b[0m\u001b[0;34m\u001b[0m\u001b[0;34m\u001b[0m\u001b[0m\n\u001b[1;32m    197\u001b[0m         \"\"\"\n\u001b[0;32m--> 198\u001b[0;31m         \u001b[0mtorch\u001b[0m\u001b[0;34m.\u001b[0m\u001b[0mautograd\u001b[0m\u001b[0;34m.\u001b[0m\u001b[0mbackward\u001b[0m\u001b[0;34m(\u001b[0m\u001b[0mself\u001b[0m\u001b[0;34m,\u001b[0m \u001b[0mgradient\u001b[0m\u001b[0;34m,\u001b[0m \u001b[0mretain_graph\u001b[0m\u001b[0;34m,\u001b[0m \u001b[0mcreate_graph\u001b[0m\u001b[0;34m)\u001b[0m\u001b[0;34m\u001b[0m\u001b[0;34m\u001b[0m\u001b[0m\n\u001b[0m\u001b[1;32m    199\u001b[0m \u001b[0;34m\u001b[0m\u001b[0m\n\u001b[1;32m    200\u001b[0m     \u001b[0;32mdef\u001b[0m \u001b[0mregister_hook\u001b[0m\u001b[0;34m(\u001b[0m\u001b[0mself\u001b[0m\u001b[0;34m,\u001b[0m \u001b[0mhook\u001b[0m\u001b[0;34m)\u001b[0m\u001b[0;34m:\u001b[0m\u001b[0;34m\u001b[0m\u001b[0;34m\u001b[0m\u001b[0m\n",
            "\u001b[0;32m/usr/local/lib/python3.6/dist-packages/torch/autograd/__init__.py\u001b[0m in \u001b[0;36mbackward\u001b[0;34m(tensors, grad_tensors, retain_graph, create_graph, grad_variables)\u001b[0m\n\u001b[1;32m     98\u001b[0m     Variable._execution_engine.run_backward(\n\u001b[1;32m     99\u001b[0m         \u001b[0mtensors\u001b[0m\u001b[0;34m,\u001b[0m \u001b[0mgrad_tensors\u001b[0m\u001b[0;34m,\u001b[0m \u001b[0mretain_graph\u001b[0m\u001b[0;34m,\u001b[0m \u001b[0mcreate_graph\u001b[0m\u001b[0;34m,\u001b[0m\u001b[0;34m\u001b[0m\u001b[0;34m\u001b[0m\u001b[0m\n\u001b[0;32m--> 100\u001b[0;31m         allow_unreachable=True)  # allow_unreachable flag\n\u001b[0m\u001b[1;32m    101\u001b[0m \u001b[0;34m\u001b[0m\u001b[0m\n\u001b[1;32m    102\u001b[0m \u001b[0;34m\u001b[0m\u001b[0m\n",
            "\u001b[0;31mKeyboardInterrupt\u001b[0m: "
          ]
        }
      ]
    },
    {
      "cell_type": "code",
      "metadata": {
        "id": "Ie8PrKglyQP3",
        "colab_type": "code",
        "colab": {}
      },
      "source": [
        ""
      ],
      "execution_count": 0,
      "outputs": []
    }
  ]
}